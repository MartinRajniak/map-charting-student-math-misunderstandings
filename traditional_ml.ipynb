{
 "cells": [
  {
   "cell_type": "markdown",
   "metadata": {},
   "source": [
    "\n",
    "# Traditional Machine Learning Approach\n",
    "**Competition:** MAP — Charting Student Math Misunderstandings\n",
    "\n",
    "**Goal:** predict up to **3** `Category:Misconception` labels per row to maximize **MAP@3**.\n",
    "\n",
    "**Approach:** concatenate problem text, student MC answer, and their explanation → TF‑IDF → linear classifier (SGD `log_loss`).  \n",
    "We evaluate with **GroupKFold** split by `QuestionId` to reduce leakage, then train on full data and create **`submission.csv`**.\n",
    "\n",
    "**Original Notebook:** https://www.kaggle.com/code/kyrcovarick/map-misconceptions-baseline"
   ]
  },
  {
   "cell_type": "code",
   "execution_count": null,
   "metadata": {
    "execution": {
     "iopub.execute_input": "2025-08-13T02:06:15.587913Z",
     "iopub.status.busy": "2025-08-13T02:06:15.587443Z",
     "iopub.status.idle": "2025-08-13T02:06:15.599892Z",
     "shell.execute_reply": "2025-08-13T02:06:15.598937Z",
     "shell.execute_reply.started": "2025-08-13T02:06:15.587882Z"
    },
    "trusted": true
   },
   "outputs": [
    {
     "name": "stdout",
     "output_type": "stream",
     "text": [
      "Libraries loaded.\n"
     ]
    }
   ],
   "source": [
    "import os, gc\n",
    "import numpy as np\n",
    "import pandas as pd\n",
    "\n",
    "from sklearn.base import clone\n",
    "from sklearn.model_selection import GroupKFold\n",
    "from sklearn.feature_extraction.text import TfidfVectorizer\n",
    "from sklearn.linear_model import SGDClassifier\n",
    "from sklearn.pipeline import Pipeline, FeatureUnion\n",
    "from sklearn.metrics import confusion_matrix\n",
    "\n",
    "import matplotlib.pyplot as plt\n",
    "\n",
    "from IPython.display import display, Latex\n",
    "\n",
    "np.random.seed(42)\n",
    "\n",
    "# MAP@K metric (K=3 per competition)\n",
    "def apk(actual, predicted, k=3):\n",
    "    \"\"\"Average precision at k for a single observation.\n",
    "    `actual` is a single-element list [true_label] (competition has one truth per row).\n",
    "    `predicted` is an ordered list of labels (top-k predictions).\n",
    "    \"\"\"\n",
    "    if not actual:\n",
    "        return 0.0\n",
    "    if k < len(predicted):\n",
    "        predicted = predicted[:k]\n",
    "    score = 0.0\n",
    "    num_hits = 0.0\n",
    "    for i, p in enumerate(predicted):\n",
    "        if p == actual[0]:\n",
    "            num_hits += 1.0\n",
    "            score += num_hits / (i + 1.0)\n",
    "            break  # only one relevant label per row\n",
    "    return score\n",
    "\n",
    "def mapk(actual_list, predicted_list, k=3):\n",
    "    return np.mean([apk([a], p, k) for a, p in zip(actual_list, predicted_list)])\n",
    "\n",
    "def topk_from_proba(class_labels, proba_row, k=3):\n",
    "    idx = np.argsort(-proba_row)[:k]\n",
    "    return [class_labels[i] for i in idx]\n",
    "\n",
    "print(\"Libraries loaded.\")"
   ]
  },
  {
   "cell_type": "markdown",
   "metadata": {},
   "source": [
    "## Load Data"
   ]
  },
  {
   "cell_type": "code",
   "execution_count": 2,
   "metadata": {
    "execution": {
     "iopub.execute_input": "2025-08-13T02:06:19.336896Z",
     "iopub.status.busy": "2025-08-13T02:06:19.336595Z",
     "iopub.status.idle": "2025-08-13T02:06:19.513322Z",
     "shell.execute_reply": "2025-08-13T02:06:19.512428Z",
     "shell.execute_reply.started": "2025-08-13T02:06:19.336874Z"
    },
    "trusted": true
   },
   "outputs": [
    {
     "name": "stdout",
     "output_type": "stream",
     "text": [
      "DATA_DIR = data\n"
     ]
    }
   ],
   "source": [
    "# Detect Kaggle input path\n",
    "KAGGLE_INPUT = \"/kaggle/input/map-charting-student-math-misunderstandings\"\n",
    "LOCAL_INPUT = \"../input/map-charting-student-math-misunderstandings\"\n",
    "HERE = os.getcwd()\n",
    "\n",
    "if os.path.exists(KAGGLE_INPUT):\n",
    "    DATA_DIR = KAGGLE_INPUT\n",
    "elif os.path.exists(LOCAL_INPUT):\n",
    "    DATA_DIR = LOCAL_INPUT\n",
    "else:\n",
    "    # Fallback to working directory (for local testing with provided CSVs)\n",
    "    DATA_DIR = \"data\"\n",
    "\n",
    "print(\"DATA_DIR =\", DATA_DIR)"
   ]
  },
  {
   "cell_type": "code",
   "execution_count": 3,
   "metadata": {},
   "outputs": [],
   "source": [
    "train_df = pd.read_csv(os.path.join(DATA_DIR, \"train.csv\"))\n",
    "test_df = pd.read_csv(os.path.join(DATA_DIR, \"test.csv\"))"
   ]
  },
  {
   "cell_type": "markdown",
   "metadata": {},
   "source": [
    "## Explore data"
   ]
  },
  {
   "cell_type": "code",
   "execution_count": 4,
   "metadata": {},
   "outputs": [
    {
     "name": "stdout",
     "output_type": "stream",
     "text": [
      "(36696, 7)\n"
     ]
    },
    {
     "data": {
      "text/html": [
       "<div>\n",
       "<style scoped>\n",
       "    .dataframe tbody tr th:only-of-type {\n",
       "        vertical-align: middle;\n",
       "    }\n",
       "\n",
       "    .dataframe tbody tr th {\n",
       "        vertical-align: top;\n",
       "    }\n",
       "\n",
       "    .dataframe thead th {\n",
       "        text-align: right;\n",
       "    }\n",
       "</style>\n",
       "<table border=\"1\" class=\"dataframe\">\n",
       "  <thead>\n",
       "    <tr style=\"text-align: right;\">\n",
       "      <th></th>\n",
       "      <th>row_id</th>\n",
       "      <th>QuestionId</th>\n",
       "      <th>QuestionText</th>\n",
       "      <th>MC_Answer</th>\n",
       "      <th>StudentExplanation</th>\n",
       "      <th>Category</th>\n",
       "      <th>Misconception</th>\n",
       "    </tr>\n",
       "  </thead>\n",
       "  <tbody>\n",
       "    <tr>\n",
       "      <th>0</th>\n",
       "      <td>0</td>\n",
       "      <td>31772</td>\n",
       "      <td>What fraction of the shape is not shaded? Give...</td>\n",
       "      <td>\\( \\frac{1}{3} \\)</td>\n",
       "      <td>0ne third is equal to tree nineth</td>\n",
       "      <td>True_Correct</td>\n",
       "      <td>NaN</td>\n",
       "    </tr>\n",
       "    <tr>\n",
       "      <th>1</th>\n",
       "      <td>1</td>\n",
       "      <td>31772</td>\n",
       "      <td>What fraction of the shape is not shaded? Give...</td>\n",
       "      <td>\\( \\frac{1}{3} \\)</td>\n",
       "      <td>1 / 3 because 6 over 9 is 2 thirds and 1 third...</td>\n",
       "      <td>True_Correct</td>\n",
       "      <td>NaN</td>\n",
       "    </tr>\n",
       "    <tr>\n",
       "      <th>2</th>\n",
       "      <td>2</td>\n",
       "      <td>31772</td>\n",
       "      <td>What fraction of the shape is not shaded? Give...</td>\n",
       "      <td>\\( \\frac{1}{3} \\)</td>\n",
       "      <td>1 3rd is half of 3 6th, so it is simplee to un...</td>\n",
       "      <td>True_Neither</td>\n",
       "      <td>NaN</td>\n",
       "    </tr>\n",
       "  </tbody>\n",
       "</table>\n",
       "</div>"
      ],
      "text/plain": [
       "   row_id  QuestionId                                       QuestionText  \\\n",
       "0       0       31772  What fraction of the shape is not shaded? Give...   \n",
       "1       1       31772  What fraction of the shape is not shaded? Give...   \n",
       "2       2       31772  What fraction of the shape is not shaded? Give...   \n",
       "\n",
       "           MC_Answer                                 StudentExplanation  \\\n",
       "0  \\( \\frac{1}{3} \\)                  0ne third is equal to tree nineth   \n",
       "1  \\( \\frac{1}{3} \\)  1 / 3 because 6 over 9 is 2 thirds and 1 third...   \n",
       "2  \\( \\frac{1}{3} \\)  1 3rd is half of 3 6th, so it is simplee to un...   \n",
       "\n",
       "       Category Misconception  \n",
       "0  True_Correct           NaN  \n",
       "1  True_Correct           NaN  \n",
       "2  True_Neither           NaN  "
      ]
     },
     "execution_count": 4,
     "metadata": {},
     "output_type": "execute_result"
    }
   ],
   "source": [
    "print(train_df.shape)\n",
    "train_df.head(3)"
   ]
  },
  {
   "cell_type": "code",
   "execution_count": 5,
   "metadata": {},
   "outputs": [
    {
     "name": "stdout",
     "output_type": "stream",
     "text": [
      "(3, 5)\n"
     ]
    },
    {
     "data": {
      "text/html": [
       "<div>\n",
       "<style scoped>\n",
       "    .dataframe tbody tr th:only-of-type {\n",
       "        vertical-align: middle;\n",
       "    }\n",
       "\n",
       "    .dataframe tbody tr th {\n",
       "        vertical-align: top;\n",
       "    }\n",
       "\n",
       "    .dataframe thead th {\n",
       "        text-align: right;\n",
       "    }\n",
       "</style>\n",
       "<table border=\"1\" class=\"dataframe\">\n",
       "  <thead>\n",
       "    <tr style=\"text-align: right;\">\n",
       "      <th></th>\n",
       "      <th>row_id</th>\n",
       "      <th>QuestionId</th>\n",
       "      <th>QuestionText</th>\n",
       "      <th>MC_Answer</th>\n",
       "      <th>StudentExplanation</th>\n",
       "    </tr>\n",
       "  </thead>\n",
       "  <tbody>\n",
       "    <tr>\n",
       "      <th>0</th>\n",
       "      <td>36696</td>\n",
       "      <td>31772</td>\n",
       "      <td>What fraction of the shape is not shaded? Give...</td>\n",
       "      <td>\\( \\frac{1}{3} \\)</td>\n",
       "      <td>I think that 1/3 is the answer, as it's the si...</td>\n",
       "    </tr>\n",
       "    <tr>\n",
       "      <th>1</th>\n",
       "      <td>36697</td>\n",
       "      <td>31772</td>\n",
       "      <td>What fraction of the shape is not shaded? Give...</td>\n",
       "      <td>\\( \\frac{3}{6} \\)</td>\n",
       "      <td>i think this answer is because 3 triangles are...</td>\n",
       "    </tr>\n",
       "    <tr>\n",
       "      <th>2</th>\n",
       "      <td>36698</td>\n",
       "      <td>32835</td>\n",
       "      <td>Which number is the greatest?</td>\n",
       "      <td>\\( 6.2 \\)</td>\n",
       "      <td>because the 2 makes it higher than the others.</td>\n",
       "    </tr>\n",
       "  </tbody>\n",
       "</table>\n",
       "</div>"
      ],
      "text/plain": [
       "   row_id  QuestionId                                       QuestionText  \\\n",
       "0   36696       31772  What fraction of the shape is not shaded? Give...   \n",
       "1   36697       31772  What fraction of the shape is not shaded? Give...   \n",
       "2   36698       32835                      Which number is the greatest?   \n",
       "\n",
       "           MC_Answer                                 StudentExplanation  \n",
       "0  \\( \\frac{1}{3} \\)  I think that 1/3 is the answer, as it's the si...  \n",
       "1  \\( \\frac{3}{6} \\)  i think this answer is because 3 triangles are...  \n",
       "2          \\( 6.2 \\)     because the 2 makes it higher than the others.  "
      ]
     },
     "execution_count": 5,
     "metadata": {},
     "output_type": "execute_result"
    }
   ],
   "source": [
    "print(test_df.shape)\n",
    "test_df.head(3)"
   ]
  },
  {
   "cell_type": "markdown",
   "metadata": {},
   "source": [
    "Note: There are only 3 rows in test_df - we can safely assume that all diversity is in train_df"
   ]
  },
  {
   "cell_type": "markdown",
   "metadata": {},
   "source": [
    "### Questions and Answers"
   ]
  },
  {
   "cell_type": "code",
   "execution_count": 6,
   "metadata": {},
   "outputs": [
    {
     "data": {
      "text/html": [
       "<div>\n",
       "<style scoped>\n",
       "    .dataframe tbody tr th:only-of-type {\n",
       "        vertical-align: middle;\n",
       "    }\n",
       "\n",
       "    .dataframe tbody tr th {\n",
       "        vertical-align: top;\n",
       "    }\n",
       "\n",
       "    .dataframe thead th {\n",
       "        text-align: right;\n",
       "    }\n",
       "</style>\n",
       "<table border=\"1\" class=\"dataframe\">\n",
       "  <thead>\n",
       "    <tr style=\"text-align: right;\">\n",
       "      <th></th>\n",
       "      <th>QuestionId</th>\n",
       "      <th>MC_Answer</th>\n",
       "    </tr>\n",
       "  </thead>\n",
       "  <tbody>\n",
       "    <tr>\n",
       "      <th>0</th>\n",
       "      <td>31772</td>\n",
       "      <td>{\\( \\frac{3}{9} \\), \\( \\frac{1}{3} \\), \\( \\fra...</td>\n",
       "    </tr>\n",
       "    <tr>\n",
       "      <th>1</th>\n",
       "      <td>31774</td>\n",
       "      <td>{\\( \\frac{1}{3} \\), \\( \\frac{1}{12} \\), \\( \\fr...</td>\n",
       "    </tr>\n",
       "    <tr>\n",
       "      <th>2</th>\n",
       "      <td>31777</td>\n",
       "      <td>{\\( 60 \\), \\( 48 \\), \\( 72 \\), \\( 24 \\)}</td>\n",
       "    </tr>\n",
       "    <tr>\n",
       "      <th>3</th>\n",
       "      <td>31778</td>\n",
       "      <td>{\\( 9 \\), \\( 6 \\), \\( 4 \\), \\( 3 \\)}</td>\n",
       "    </tr>\n",
       "    <tr>\n",
       "      <th>4</th>\n",
       "      <td>32829</td>\n",
       "      <td>{\\( 4 \\), \\( 48 \\), \\( 12 \\), \\( 22 \\)}</td>\n",
       "    </tr>\n",
       "    <tr>\n",
       "      <th>5</th>\n",
       "      <td>32833</td>\n",
       "      <td>{\\( \\frac{10}{15} \\), \\( 3 \\frac{1}{3} \\), \\( ...</td>\n",
       "    </tr>\n",
       "    <tr>\n",
       "      <th>6</th>\n",
       "      <td>32835</td>\n",
       "      <td>{\\( 6.079 \\), \\( 6 \\), \\( 6.0001 \\), \\( 6.2 \\)}</td>\n",
       "    </tr>\n",
       "    <tr>\n",
       "      <th>7</th>\n",
       "      <td>33471</td>\n",
       "      <td>{\\( 8 \\), \\( 9 \\), \\( 3 \\), \\( 15 \\)}</td>\n",
       "    </tr>\n",
       "    <tr>\n",
       "      <th>8</th>\n",
       "      <td>33472</td>\n",
       "      <td>{\\( \\frac{11}{30} \\), \\( \\frac{11}{15} \\), \\( ...</td>\n",
       "    </tr>\n",
       "    <tr>\n",
       "      <th>9</th>\n",
       "      <td>33474</td>\n",
       "      <td>{\\( \\frac{1}{3} \\times \\frac{2}{3} \\), \\( \\fra...</td>\n",
       "    </tr>\n",
       "    <tr>\n",
       "      <th>10</th>\n",
       "      <td>76870</td>\n",
       "      <td>{\\( 10 \\), Not enough information, \\( 6 \\), \\(...</td>\n",
       "    </tr>\n",
       "    <tr>\n",
       "      <th>11</th>\n",
       "      <td>89443</td>\n",
       "      <td>{\\( -3 \\), \\( 13 \\), \\( -13 \\), \\( 3 \\)}</td>\n",
       "    </tr>\n",
       "    <tr>\n",
       "      <th>12</th>\n",
       "      <td>91695</td>\n",
       "      <td>{\\( 22 \\), \\( 36 \\), \\( 26 \\), \\( 20 \\)}</td>\n",
       "    </tr>\n",
       "    <tr>\n",
       "      <th>13</th>\n",
       "      <td>104665</td>\n",
       "      <td>{\\( 64 \\) hours, \\( 768 \\) hours, \\( 192 \\) ho...</td>\n",
       "    </tr>\n",
       "    <tr>\n",
       "      <th>14</th>\n",
       "      <td>109465</td>\n",
       "      <td>{Impossible, Likely, Unlikely, Certain}</td>\n",
       "    </tr>\n",
       "  </tbody>\n",
       "</table>\n",
       "</div>"
      ],
      "text/plain": [
       "    QuestionId                                          MC_Answer\n",
       "0        31772  {\\( \\frac{3}{9} \\), \\( \\frac{1}{3} \\), \\( \\fra...\n",
       "1        31774  {\\( \\frac{1}{3} \\), \\( \\frac{1}{12} \\), \\( \\fr...\n",
       "2        31777           {\\( 60 \\), \\( 48 \\), \\( 72 \\), \\( 24 \\)}\n",
       "3        31778               {\\( 9 \\), \\( 6 \\), \\( 4 \\), \\( 3 \\)}\n",
       "4        32829            {\\( 4 \\), \\( 48 \\), \\( 12 \\), \\( 22 \\)}\n",
       "5        32833  {\\( \\frac{10}{15} \\), \\( 3 \\frac{1}{3} \\), \\( ...\n",
       "6        32835    {\\( 6.079 \\), \\( 6 \\), \\( 6.0001 \\), \\( 6.2 \\)}\n",
       "7        33471              {\\( 8 \\), \\( 9 \\), \\( 3 \\), \\( 15 \\)}\n",
       "8        33472  {\\( \\frac{11}{30} \\), \\( \\frac{11}{15} \\), \\( ...\n",
       "9        33474  {\\( \\frac{1}{3} \\times \\frac{2}{3} \\), \\( \\fra...\n",
       "10       76870  {\\( 10 \\), Not enough information, \\( 6 \\), \\(...\n",
       "11       89443           {\\( -3 \\), \\( 13 \\), \\( -13 \\), \\( 3 \\)}\n",
       "12       91695           {\\( 22 \\), \\( 36 \\), \\( 26 \\), \\( 20 \\)}\n",
       "13      104665  {\\( 64 \\) hours, \\( 768 \\) hours, \\( 192 \\) ho...\n",
       "14      109465            {Impossible, Likely, Unlikely, Certain}"
      ]
     },
     "execution_count": 6,
     "metadata": {},
     "output_type": "execute_result"
    }
   ],
   "source": [
    "group_by_question_df = train_df[[\"QuestionId\", \"MC_Answer\"]].groupby(\"QuestionId\")[\"MC_Answer\"].agg(set).reset_index()\n",
    "group_by_question_df"
   ]
  },
  {
   "cell_type": "code",
   "execution_count": 7,
   "metadata": {},
   "outputs": [
    {
     "data": {
      "text/plain": [
       "True"
      ]
     },
     "execution_count": 7,
     "metadata": {},
     "output_type": "execute_result"
    }
   ],
   "source": [
    "# Verify that all questions have exactly 4 possible answers\n",
    "(group_by_question_df[\"MC_Answer\"].apply(len) == 4).all()"
   ]
  },
  {
   "cell_type": "code",
   "execution_count": 8,
   "metadata": {},
   "outputs": [],
   "source": [
    "# Mathematical expression are correctly displayed with Latex function only when wrapped in $ sign\n",
    "def to_latex(text):\n",
    "    return text.replace('\\\\(', '$').replace('\\\\)', '$')"
   ]
  },
  {
   "cell_type": "code",
   "execution_count": 9,
   "metadata": {},
   "outputs": [
    {
     "data": {
      "text/latex": [
       "Question 31772: What fraction of the shape is not shaded? Give your answer in its simplest form. [Image: A triangle split into 9 equal smaller triangles. 6 of them are shaded.]"
      ],
      "text/plain": [
       "<IPython.core.display.Latex object>"
      ]
     },
     "metadata": {},
     "output_type": "display_data"
    },
    {
     "data": {
      "text/latex": [
       "Answers: (A) $ \\frac{3}{9} $ (B) $ \\frac{1}{3} $ (C) $ \\frac{3}{6} $ (D) $ \\frac{3}{8} $"
      ],
      "text/plain": [
       "<IPython.core.display.Latex object>"
      ]
     },
     "metadata": {},
     "output_type": "display_data"
    },
    {
     "name": "stdout",
     "output_type": "stream",
     "text": [
      "\n"
     ]
    },
    {
     "data": {
      "text/latex": [
       "Question 31774: Calculate $ \\frac{1}{2} \\div 6 $"
      ],
      "text/plain": [
       "<IPython.core.display.Latex object>"
      ]
     },
     "metadata": {},
     "output_type": "display_data"
    },
    {
     "data": {
      "text/latex": [
       "Answers: (A) $ \\frac{1}{3} $ (B) $ \\frac{1}{12} $ (C) $ \\frac{6}{2} $ (D) $ 3 $"
      ],
      "text/plain": [
       "<IPython.core.display.Latex object>"
      ]
     },
     "metadata": {},
     "output_type": "display_data"
    },
    {
     "name": "stdout",
     "output_type": "stream",
     "text": [
      "\n"
     ]
    },
    {
     "data": {
      "text/latex": [
       "Question 31777: A box contains $ 120 $ counters. The counters are red or blue. $ \\frac{3}{5} $ of the counters are red.\n",
       "How many red counters are there?"
      ],
      "text/plain": [
       "<IPython.core.display.Latex object>"
      ]
     },
     "metadata": {},
     "output_type": "display_data"
    },
    {
     "data": {
      "text/latex": [
       "Answers: (A) $ 60 $ (B) $ 48 $ (C) $ 72 $ (D) $ 24 $"
      ],
      "text/plain": [
       "<IPython.core.display.Latex object>"
      ]
     },
     "metadata": {},
     "output_type": "display_data"
    },
    {
     "name": "stdout",
     "output_type": "stream",
     "text": [
      "\n"
     ]
    },
    {
     "data": {
      "text/latex": [
       "Question 31778: $ \\frac{A}{10}=\\frac{9}{15} $ What is the value of $ A $ ?"
      ],
      "text/plain": [
       "<IPython.core.display.Latex object>"
      ]
     },
     "metadata": {},
     "output_type": "display_data"
    },
    {
     "data": {
      "text/latex": [
       "Answers: (A) $ 9 $ (B) $ 6 $ (C) $ 4 $ (D) $ 3 $"
      ],
      "text/plain": [
       "<IPython.core.display.Latex object>"
      ]
     },
     "metadata": {},
     "output_type": "display_data"
    },
    {
     "name": "stdout",
     "output_type": "stream",
     "text": [
      "\n"
     ]
    },
    {
     "data": {
      "text/latex": [
       "Question 32829: $ 2 y=24 $ What is the value of $ y $ ?"
      ],
      "text/plain": [
       "<IPython.core.display.Latex object>"
      ]
     },
     "metadata": {},
     "output_type": "display_data"
    },
    {
     "data": {
      "text/latex": [
       "Answers: (A) $ 4 $ (B) $ 48 $ (C) $ 12 $ (D) $ 22 $"
      ],
      "text/plain": [
       "<IPython.core.display.Latex object>"
      ]
     },
     "metadata": {},
     "output_type": "display_data"
    },
    {
     "name": "stdout",
     "output_type": "stream",
     "text": [
      "\n"
     ]
    },
    {
     "data": {
      "text/latex": [
       "Question 32833: Calculate $ \\frac{2}{3} \\times 5 $"
      ],
      "text/plain": [
       "<IPython.core.display.Latex object>"
      ]
     },
     "metadata": {},
     "output_type": "display_data"
    },
    {
     "data": {
      "text/latex": [
       "Answers: (A) $ \\frac{10}{15} $ (B) $ 3 \\frac{1}{3} $ (C) $ \\frac{2}{15} $ (D) $ 5 \\frac{2}{3} $"
      ],
      "text/plain": [
       "<IPython.core.display.Latex object>"
      ]
     },
     "metadata": {},
     "output_type": "display_data"
    },
    {
     "name": "stdout",
     "output_type": "stream",
     "text": [
      "\n"
     ]
    },
    {
     "data": {
      "text/latex": [
       "Question 32835: Which number is the greatest?"
      ],
      "text/plain": [
       "<IPython.core.display.Latex object>"
      ]
     },
     "metadata": {},
     "output_type": "display_data"
    },
    {
     "data": {
      "text/latex": [
       "Answers: (A) $ 6.079 $ (B) $ 6 $ (C) $ 6.0001 $ (D) $ 6.2 $"
      ],
      "text/plain": [
       "<IPython.core.display.Latex object>"
      ]
     },
     "metadata": {},
     "output_type": "display_data"
    },
    {
     "name": "stdout",
     "output_type": "stream",
     "text": [
      "\n"
     ]
    },
    {
     "data": {
      "text/latex": [
       "Question 33471: A bag contains $ 24 $ yellow and green balls. $ \\frac{3}{8} $ of the balls are yellow. How many of the balls are green?"
      ],
      "text/plain": [
       "<IPython.core.display.Latex object>"
      ]
     },
     "metadata": {},
     "output_type": "display_data"
    },
    {
     "data": {
      "text/latex": [
       "Answers: (A) $ 8 $ (B) $ 9 $ (C) $ 3 $ (D) $ 15 $"
      ],
      "text/plain": [
       "<IPython.core.display.Latex object>"
      ]
     },
     "metadata": {},
     "output_type": "display_data"
    },
    {
     "name": "stdout",
     "output_type": "stream",
     "text": [
      "\n"
     ]
    },
    {
     "data": {
      "text/latex": [
       "Question 33472: $ \\frac{1}{3}+\\frac{2}{5}= $"
      ],
      "text/plain": [
       "<IPython.core.display.Latex object>"
      ]
     },
     "metadata": {},
     "output_type": "display_data"
    },
    {
     "data": {
      "text/latex": [
       "Answers: (A) $ \\frac{11}{30} $ (B) $ \\frac{11}{15} $ (C) $ \\frac{3}{15} $ (D) $ \\frac{3}{8} $"
      ],
      "text/plain": [
       "<IPython.core.display.Latex object>"
      ]
     },
     "metadata": {},
     "output_type": "display_data"
    },
    {
     "name": "stdout",
     "output_type": "stream",
     "text": [
      "\n"
     ]
    },
    {
     "data": {
      "text/latex": [
       "Question 33474: Sally has $ \\frac{2}{3} $ of a whole cake in the fridge. Robert eats $ \\frac{1}{3} $ of this piece. What fraction of the whole cake has Robert eaten?\n",
       "Choose the number sentence that would solve the word problem."
      ],
      "text/plain": [
       "<IPython.core.display.Latex object>"
      ]
     },
     "metadata": {},
     "output_type": "display_data"
    },
    {
     "data": {
      "text/latex": [
       "Answers: (A) $ \\frac{1}{3} \\times \\frac{2}{3} $ (B) $ \\frac{2}{3} \\div \\frac{1}{3} $ (C) $ \\frac{1}{3}+\\frac{2}{3} $ (D) $ \\frac{2}{3}-\\frac{1}{3} $"
      ],
      "text/plain": [
       "<IPython.core.display.Latex object>"
      ]
     },
     "metadata": {},
     "output_type": "display_data"
    },
    {
     "name": "stdout",
     "output_type": "stream",
     "text": [
      "\n"
     ]
    },
    {
     "data": {
      "text/latex": [
       "Question 76870: This is part of a regular polygon. How many sides does it have? [Image: A diagram showing an obtuse angle labelled 144 degrees]"
      ],
      "text/plain": [
       "<IPython.core.display.Latex object>"
      ]
     },
     "metadata": {},
     "output_type": "display_data"
    },
    {
     "data": {
      "text/latex": [
       "Answers: (A) $ 10 $ (B) Not enough information (C) $ 6 $ (D) $ 5 $"
      ],
      "text/plain": [
       "<IPython.core.display.Latex object>"
      ]
     },
     "metadata": {},
     "output_type": "display_data"
    },
    {
     "name": "stdout",
     "output_type": "stream",
     "text": [
      "\n"
     ]
    },
    {
     "data": {
      "text/latex": [
       "Question 89443: What number belongs in the box?\n",
       "$\n",
       "(-8)-(-5)=\n",
       "\\square$"
      ],
      "text/plain": [
       "<IPython.core.display.Latex object>"
      ]
     },
     "metadata": {},
     "output_type": "display_data"
    },
    {
     "data": {
      "text/latex": [
       "Answers: (A) $ -3 $ (B) $ 13 $ (C) $ -13 $ (D) $ 3 $"
      ],
      "text/plain": [
       "<IPython.core.display.Latex object>"
      ]
     },
     "metadata": {},
     "output_type": "display_data"
    },
    {
     "name": "stdout",
     "output_type": "stream",
     "text": [
      "\n"
     ]
    },
    {
     "data": {
      "text/latex": [
       "Question 91695: Dots have been arranged in these patterns: [Image: Pattern 1 consists of 6 dots, Pattern 2 consists of 10 dots, Pattern 3 consists of 14 dots and Pattern 4 consists of 18 dots] How many dots would there be in Pattern $ 6 $ ?"
      ],
      "text/plain": [
       "<IPython.core.display.Latex object>"
      ]
     },
     "metadata": {},
     "output_type": "display_data"
    },
    {
     "data": {
      "text/latex": [
       "Answers: (A) $ 22 $ (B) $ 36 $ (C) $ 26 $ (D) $ 20 $"
      ],
      "text/plain": [
       "<IPython.core.display.Latex object>"
      ]
     },
     "metadata": {},
     "output_type": "display_data"
    },
    {
     "name": "stdout",
     "output_type": "stream",
     "text": [
      "\n"
     ]
    },
    {
     "data": {
      "text/latex": [
       "Question 104665: It takes $ 3 $ people a total of $ 192 $ hours to build a wall.\n",
       "\n",
       "How long would it take if $ 12 $ people built the same wall?"
      ],
      "text/plain": [
       "<IPython.core.display.Latex object>"
      ]
     },
     "metadata": {},
     "output_type": "display_data"
    },
    {
     "data": {
      "text/latex": [
       "Answers: (A) $ 64 $ hours (B) $ 768 $ hours (C) $ 192 $ hours (D) $ 48 $ hours"
      ],
      "text/plain": [
       "<IPython.core.display.Latex object>"
      ]
     },
     "metadata": {},
     "output_type": "display_data"
    },
    {
     "name": "stdout",
     "output_type": "stream",
     "text": [
      "\n"
     ]
    },
    {
     "data": {
      "text/latex": [
       "Question 109465: The probability of an event occurring is $ 0.9 $.\n",
       "\n",
       "Which of the following most accurately describes the likelihood of the event occurring?"
      ],
      "text/plain": [
       "<IPython.core.display.Latex object>"
      ]
     },
     "metadata": {},
     "output_type": "display_data"
    },
    {
     "data": {
      "text/latex": [
       "Answers: (A) Impossible (B) Likely (C) Unlikely (D) Certain"
      ],
      "text/plain": [
       "<IPython.core.display.Latex object>"
      ]
     },
     "metadata": {},
     "output_type": "display_data"
    },
    {
     "name": "stdout",
     "output_type": "stream",
     "text": [
      "\n"
     ]
    }
   ],
   "source": [
    "for index, question_row in group_by_question_df.iterrows():\n",
    "    question = train_df.loc[train_df.QuestionId == question_row.QuestionId].iloc[0].QuestionText\n",
    "    clean_question = to_latex(question)\n",
    "    display(Latex(f\"Question {question_row.QuestionId}: {clean_question}\"))\n",
    "\n",
    "    # Letter to multi-choice answer relationship doesn't have to be correct\n",
    "    answer_letters = \"ABCD\"\n",
    "    answers = \" \".join([f\"({answer_letters[i]}) {to_latex(answer)}\" for i, answer in enumerate(list(question_row.MC_Answer))])\n",
    "    display(Latex(f\"Answers: {answers}\"))\n",
    "\n",
    "    # Newline\n",
    "    print()"
   ]
  },
  {
   "cell_type": "markdown",
   "metadata": {},
   "source": [
    "### Misconception classes"
   ]
  },
  {
   "cell_type": "code",
   "execution_count": 10,
   "metadata": {},
   "outputs": [
    {
     "name": "stdout",
     "output_type": "stream",
     "text": [
      "['Adding_across' 'Adding_terms' 'Additive' 'Base_rate' 'Certainty'\n",
      " 'Definition' 'Denominator-only_change' 'Division' 'Duplication'\n",
      " 'Firstterm' 'FlipChange' 'Ignores_zeroes' 'Incomplete'\n",
      " 'Incorrect_equivalent_fraction_addition' 'Interior' 'Inverse_operation'\n",
      " 'Inversion' 'Irrelevant' 'Longer_is_bigger' 'Mult' 'Multiplying_by_4'\n",
      " 'NA' 'Not_variable' 'Positive' 'Scale' 'Shorter_is_bigger' 'Subtraction'\n",
      " 'SwapDividend' 'Tacking' 'Unknowable' 'WNB' 'Whole_numbers_larger'\n",
      " 'Wrong_Fraction' 'Wrong_Operation' 'Wrong_fraction' 'Wrong_term']\n",
      "36\n"
     ]
    }
   ],
   "source": [
    "train_df[\"Misconception\"] = train_df[\"Misconception\"].fillna(\"NA\")\n",
    "\n",
    "misconception_classes = np.unique(train_df[\"Misconception\"])\n",
    "print(misconception_classes)\n",
    "print(len(misconception_classes))"
   ]
  },
  {
   "cell_type": "markdown",
   "metadata": {},
   "source": [
    "### Categories"
   ]
  },
  {
   "cell_type": "code",
   "execution_count": 11,
   "metadata": {},
   "outputs": [
    {
     "name": "stdout",
     "output_type": "stream",
     "text": [
      "Counts (sorted): [14802  9457  6542  5265   403   227]\n"
     ]
    },
    {
     "data": {
      "image/png": "[encoded data removed]",
      "text/plain": [
       "<Figure size 2000x1200 with 1 Axes>"
      ]
     },
     "metadata": {},
     "output_type": "display_data"
    }
   ],
   "source": [
    "# Find the unique classes and their counts\n",
    "classes, counts = np.unique(train_df[\"Category\"], return_counts=True)\n",
    "\n",
    "# Sort the counts and classes in descending order\n",
    "sorted_indices = np.argsort(counts)[::-1]\n",
    "sorted_classes = classes[sorted_indices]\n",
    "sorted_counts = counts[sorted_indices]\n",
    "\n",
    "# Create a bar chart for visualization\n",
    "plt.figure(figsize=(20, 12))\n",
    "plt.bar(sorted_classes.astype(str), sorted_counts, color=\"skyblue\")\n",
    "plt.title(\"Distribution of Explanation Classifications\")\n",
    "plt.xlabel(\"Class\")\n",
    "plt.ylabel(\"Count\")\n",
    "plt.xticks(rotation=90)\n",
    "plt.tight_layout()\n",
    "\n",
    "print(\"Counts (sorted):\", sorted_counts)"
   ]
  },
  {
   "cell_type": "markdown",
   "metadata": {},
   "source": [
    "## Prepare data"
   ]
  },
  {
   "cell_type": "markdown",
   "metadata": {},
   "source": [
    "### Check `QuestionText` Column"
   ]
  },
  {
   "cell_type": "code",
   "execution_count": 12,
   "metadata": {},
   "outputs": [
    {
     "data": {
      "text/plain": [
       "True"
      ]
     },
     "execution_count": 12,
     "metadata": {},
     "output_type": "execute_result"
    }
   ],
   "source": [
    "# Verify that every QuestionId has only one QuestionText\n",
    "is_one_to_one = train_df.groupby(\"QuestionId\")[\"QuestionText\"].nunique().eq(1).all()\n",
    "is_one_to_one"
   ]
  },
  {
   "cell_type": "markdown",
   "metadata": {},
   "source": [
    "### Clean `Category` Column\n",
    "\n",
    "Based on explorations, there seems to be some correct `MC_Answer` values in the row with incorrect `Category` and vice versa."
   ]
  },
  {
   "cell_type": "code",
   "execution_count": 13,
   "metadata": {},
   "outputs": [
    {
     "data": {
      "text/html": [
       "<div>\n",
       "<style scoped>\n",
       "    .dataframe tbody tr th:only-of-type {\n",
       "        vertical-align: middle;\n",
       "    }\n",
       "\n",
       "    .dataframe tbody tr th {\n",
       "        vertical-align: top;\n",
       "    }\n",
       "\n",
       "    .dataframe thead th {\n",
       "        text-align: right;\n",
       "    }\n",
       "</style>\n",
       "<table border=\"1\" class=\"dataframe\">\n",
       "  <thead>\n",
       "    <tr style=\"text-align: right;\">\n",
       "      <th></th>\n",
       "      <th>row_id</th>\n",
       "      <th>QuestionId</th>\n",
       "      <th>QuestionText</th>\n",
       "      <th>MC_Answer</th>\n",
       "      <th>StudentExplanation</th>\n",
       "      <th>Misconception</th>\n",
       "      <th>Correct_Answer</th>\n",
       "      <th>Explanation_Eval</th>\n",
       "    </tr>\n",
       "  </thead>\n",
       "  <tbody>\n",
       "    <tr>\n",
       "      <th>0</th>\n",
       "      <td>0</td>\n",
       "      <td>31772</td>\n",
       "      <td>What fraction of the shape is not shaded? Give...</td>\n",
       "      <td>\\( \\frac{1}{3} \\)</td>\n",
       "      <td>0ne third is equal to tree nineth</td>\n",
       "      <td>NA</td>\n",
       "      <td>True</td>\n",
       "      <td>Correct</td>\n",
       "    </tr>\n",
       "    <tr>\n",
       "      <th>1</th>\n",
       "      <td>1</td>\n",
       "      <td>31772</td>\n",
       "      <td>What fraction of the shape is not shaded? Give...</td>\n",
       "      <td>\\( \\frac{1}{3} \\)</td>\n",
       "      <td>1 / 3 because 6 over 9 is 2 thirds and 1 third...</td>\n",
       "      <td>NA</td>\n",
       "      <td>True</td>\n",
       "      <td>Correct</td>\n",
       "    </tr>\n",
       "  </tbody>\n",
       "</table>\n",
       "</div>"
      ],
      "text/plain": [
       "   row_id  QuestionId                                       QuestionText  \\\n",
       "0       0       31772  What fraction of the shape is not shaded? Give...   \n",
       "1       1       31772  What fraction of the shape is not shaded? Give...   \n",
       "\n",
       "           MC_Answer                                 StudentExplanation  \\\n",
       "0  \\( \\frac{1}{3} \\)                  0ne third is equal to tree nineth   \n",
       "1  \\( \\frac{1}{3} \\)  1 / 3 because 6 over 9 is 2 thirds and 1 third...   \n",
       "\n",
       "  Misconception Correct_Answer Explanation_Eval  \n",
       "0            NA           True          Correct  \n",
       "1            NA           True          Correct  "
      ]
     },
     "execution_count": 13,
     "metadata": {},
     "output_type": "execute_result"
    }
   ],
   "source": [
    "# Let's split Category to Correct_Answer and Explanation_Eval to deal with them separately\n",
    "train_df[[\"Correct_Answer\", \"Explanation_Eval\"]] = train_df[\"Category\"].str.split(\"_\", expand=True)\n",
    "# Let's remove for now - so we don't have to update it in two places\n",
    "train_df = train_df.drop(\"Category\", axis=1)\n",
    "train_df.head(2)"
   ]
  },
  {
   "cell_type": "code",
   "execution_count": 14,
   "metadata": {},
   "outputs": [
    {
     "data": {
      "text/html": [
       "<div>\n",
       "<style scoped>\n",
       "    .dataframe tbody tr th:only-of-type {\n",
       "        vertical-align: middle;\n",
       "    }\n",
       "\n",
       "    .dataframe tbody tr th {\n",
       "        vertical-align: top;\n",
       "    }\n",
       "\n",
       "    .dataframe thead th {\n",
       "        text-align: right;\n",
       "    }\n",
       "</style>\n",
       "<table border=\"1\" class=\"dataframe\">\n",
       "  <thead>\n",
       "    <tr style=\"text-align: right;\">\n",
       "      <th></th>\n",
       "      <th>Misconception</th>\n",
       "    </tr>\n",
       "    <tr>\n",
       "      <th>Explanation_Eval</th>\n",
       "      <th></th>\n",
       "    </tr>\n",
       "  </thead>\n",
       "  <tbody>\n",
       "    <tr>\n",
       "      <th>Correct</th>\n",
       "      <td>{NA}</td>\n",
       "    </tr>\n",
       "    <tr>\n",
       "      <th>Misconception</th>\n",
       "      <td>{Adding_terms, Wrong_Fraction, Additive, First...</td>\n",
       "    </tr>\n",
       "    <tr>\n",
       "      <th>Neither</th>\n",
       "      <td>{NA}</td>\n",
       "    </tr>\n",
       "  </tbody>\n",
       "</table>\n",
       "</div>"
      ],
      "text/plain": [
       "                                                      Misconception\n",
       "Explanation_Eval                                                   \n",
       "Correct                                                        {NA}\n",
       "Misconception     {Adding_terms, Wrong_Fraction, Additive, First...\n",
       "Neither                                                        {NA}"
      ]
     },
     "execution_count": 14,
     "metadata": {},
     "output_type": "execute_result"
    }
   ],
   "source": [
    "# Make sure all Misconceptions occur only when Explanation_Eval is Misconception\n",
    "train_df[[\"Explanation_Eval\", \"Misconception\"]].groupby(\"Explanation_Eval\").agg(set)"
   ]
  },
  {
   "cell_type": "code",
   "execution_count": 15,
   "metadata": {},
   "outputs": [
    {
     "name": "stdout",
     "output_type": "stream",
     "text": [
      "Counts (sorted): [1454  929  704  620  566  558  497  418  414  353  336  329  307  299\n",
      "  290  282  273  206  179  154  107   97   96   78   63   54   50   24\n",
      "   23   23   23   21   18    9    6]\n"
     ]
    },
    {
     "data": {
      "image/png": "[encoded data removed]",
      "text/plain": [
       "<Figure size 2000x1200 with 1 Axes>"
      ]
     },
     "metadata": {},
     "output_type": "display_data"
    }
   ],
   "source": [
    "# Find the unique classes and their counts\n",
    "classes, counts = np.unique(train_df[\"Misconception\"][train_df[\"Misconception\"] != \"NA\"], return_counts=True)\n",
    "\n",
    "# Sort the counts and classes in descending order\n",
    "sorted_indices = np.argsort(counts)[::-1]\n",
    "sorted_classes = classes[sorted_indices]\n",
    "sorted_counts = counts[sorted_indices]\n",
    "\n",
    "# Create a bar chart for visualization\n",
    "plt.figure(figsize=(20, 12))\n",
    "plt.bar(sorted_classes.astype(str), sorted_counts, color=\"skyblue\")\n",
    "plt.title(\"Distribution of Misconception Classes\")\n",
    "plt.xlabel(\"Class\")\n",
    "plt.ylabel(\"Count\")\n",
    "plt.xticks(rotation=90)\n",
    "plt.tight_layout()\n",
    "\n",
    "print(\"Counts (sorted):\", sorted_counts)"
   ]
  },
  {
   "cell_type": "markdown",
   "metadata": {},
   "source": [
    "#### Fix Correct Answers\n",
    "\n",
    "`Correct_Answer` says `True` but `MC_Answer` is wrong."
   ]
  },
  {
   "cell_type": "code",
   "execution_count": 16,
   "metadata": {},
   "outputs": [
    {
     "data": {
      "text/html": [
       "<div>\n",
       "<style scoped>\n",
       "    .dataframe tbody tr th:only-of-type {\n",
       "        vertical-align: middle;\n",
       "    }\n",
       "\n",
       "    .dataframe tbody tr th {\n",
       "        vertical-align: top;\n",
       "    }\n",
       "\n",
       "    .dataframe thead th {\n",
       "        text-align: right;\n",
       "    }\n",
       "</style>\n",
       "<table border=\"1\" class=\"dataframe\">\n",
       "  <thead>\n",
       "    <tr style=\"text-align: right;\">\n",
       "      <th></th>\n",
       "      <th>QuestionId</th>\n",
       "      <th>MC_Answer</th>\n",
       "    </tr>\n",
       "  </thead>\n",
       "  <tbody>\n",
       "    <tr>\n",
       "      <th>0</th>\n",
       "      <td>31772</td>\n",
       "      <td>{\\( \\frac{1}{3} \\)}</td>\n",
       "    </tr>\n",
       "    <tr>\n",
       "      <th>1</th>\n",
       "      <td>31774</td>\n",
       "      <td>{\\( \\frac{1}{12} \\)}</td>\n",
       "    </tr>\n",
       "    <tr>\n",
       "      <th>2</th>\n",
       "      <td>31777</td>\n",
       "      <td>{\\( 72 \\)}</td>\n",
       "    </tr>\n",
       "    <tr>\n",
       "      <th>3</th>\n",
       "      <td>31778</td>\n",
       "      <td>{\\( 9 \\), \\( 6 \\)}</td>\n",
       "    </tr>\n",
       "    <tr>\n",
       "      <th>4</th>\n",
       "      <td>32829</td>\n",
       "      <td>{\\( 12 \\)}</td>\n",
       "    </tr>\n",
       "    <tr>\n",
       "      <th>5</th>\n",
       "      <td>32833</td>\n",
       "      <td>{\\( 3 \\frac{1}{3} \\)}</td>\n",
       "    </tr>\n",
       "    <tr>\n",
       "      <th>6</th>\n",
       "      <td>32835</td>\n",
       "      <td>{\\( 6.2 \\)}</td>\n",
       "    </tr>\n",
       "    <tr>\n",
       "      <th>7</th>\n",
       "      <td>33471</td>\n",
       "      <td>{\\( 15 \\)}</td>\n",
       "    </tr>\n",
       "    <tr>\n",
       "      <th>8</th>\n",
       "      <td>33472</td>\n",
       "      <td>{\\( \\frac{11}{15} \\)}</td>\n",
       "    </tr>\n",
       "    <tr>\n",
       "      <th>9</th>\n",
       "      <td>33474</td>\n",
       "      <td>{\\( \\frac{1}{3} \\times \\frac{2}{3} \\)}</td>\n",
       "    </tr>\n",
       "    <tr>\n",
       "      <th>10</th>\n",
       "      <td>76870</td>\n",
       "      <td>{\\( 10 \\)}</td>\n",
       "    </tr>\n",
       "    <tr>\n",
       "      <th>11</th>\n",
       "      <td>89443</td>\n",
       "      <td>{\\( -3 \\)}</td>\n",
       "    </tr>\n",
       "    <tr>\n",
       "      <th>12</th>\n",
       "      <td>91695</td>\n",
       "      <td>{\\( 26 \\)}</td>\n",
       "    </tr>\n",
       "    <tr>\n",
       "      <th>13</th>\n",
       "      <td>104665</td>\n",
       "      <td>{\\( 48 \\) hours}</td>\n",
       "    </tr>\n",
       "    <tr>\n",
       "      <th>14</th>\n",
       "      <td>109465</td>\n",
       "      <td>{Likely}</td>\n",
       "    </tr>\n",
       "  </tbody>\n",
       "</table>\n",
       "</div>"
      ],
      "text/plain": [
       "    QuestionId                               MC_Answer\n",
       "0        31772                     {\\( \\frac{1}{3} \\)}\n",
       "1        31774                    {\\( \\frac{1}{12} \\)}\n",
       "2        31777                              {\\( 72 \\)}\n",
       "3        31778                      {\\( 9 \\), \\( 6 \\)}\n",
       "4        32829                              {\\( 12 \\)}\n",
       "5        32833                   {\\( 3 \\frac{1}{3} \\)}\n",
       "6        32835                             {\\( 6.2 \\)}\n",
       "7        33471                              {\\( 15 \\)}\n",
       "8        33472                   {\\( \\frac{11}{15} \\)}\n",
       "9        33474  {\\( \\frac{1}{3} \\times \\frac{2}{3} \\)}\n",
       "10       76870                              {\\( 10 \\)}\n",
       "11       89443                              {\\( -3 \\)}\n",
       "12       91695                              {\\( 26 \\)}\n",
       "13      104665                        {\\( 48 \\) hours}\n",
       "14      109465                                {Likely}"
      ]
     },
     "execution_count": 16,
     "metadata": {},
     "output_type": "execute_result"
    }
   ],
   "source": [
    "# Group Questions and Correct Answers\n",
    "def group_questions_with_correct_answers():\n",
    "    return train_df[train_df[\"Correct_Answer\"] == \"True\"][[\"QuestionId\", \"MC_Answer\"]].groupby(\"QuestionId\").agg(set).reset_index()\n",
    "\n",
    "question_correct_answer = group_questions_with_correct_answers()\n",
    "question_correct_answer"
   ]
  },
  {
   "cell_type": "code",
   "execution_count": 17,
   "metadata": {},
   "outputs": [
    {
     "data": {
      "text/html": [
       "<div>\n",
       "<style scoped>\n",
       "    .dataframe tbody tr th:only-of-type {\n",
       "        vertical-align: middle;\n",
       "    }\n",
       "\n",
       "    .dataframe tbody tr th {\n",
       "        vertical-align: top;\n",
       "    }\n",
       "\n",
       "    .dataframe thead th {\n",
       "        text-align: right;\n",
       "    }\n",
       "</style>\n",
       "<table border=\"1\" class=\"dataframe\">\n",
       "  <thead>\n",
       "    <tr style=\"text-align: right;\">\n",
       "      <th></th>\n",
       "      <th>QuestionId</th>\n",
       "      <th>MC_Answer</th>\n",
       "    </tr>\n",
       "  </thead>\n",
       "  <tbody>\n",
       "    <tr>\n",
       "      <th>3</th>\n",
       "      <td>31778</td>\n",
       "      <td>{\\( 9 \\), \\( 6 \\)}</td>\n",
       "    </tr>\n",
       "  </tbody>\n",
       "</table>\n",
       "</div>"
      ],
      "text/plain": [
       "   QuestionId           MC_Answer\n",
       "3       31778  {\\( 9 \\), \\( 6 \\)}"
      ]
     },
     "execution_count": 17,
     "metadata": {},
     "output_type": "execute_result"
    }
   ],
   "source": [
    "# Check that there is exactly one correct answer\n",
    "question_correct_answer[question_correct_answer[\"MC_Answer\"].apply(len) != 1]"
   ]
  },
  {
   "cell_type": "code",
   "execution_count": 18,
   "metadata": {},
   "outputs": [
    {
     "name": "stdout",
     "output_type": "stream",
     "text": [
      "Because 10 is 2 / 3 of 15, and 2 is 6. Neither\n",
      "I divided 9/15 by 3, then got 3/5 and timsed it by 2 and got 6/10. Correct\n",
      "I think it's C because 6/10 is the same as 9/15. Correct\n",
      "Il believe that is the ansewer because I calculatted iti. Neither\n",
      "It is six because they are both equal to 3over5. Correct\n",
      "To get a denominator of 10, we need to divide by 3 and multiply by 2. Then, 9/15=3/5=6/10, so A = 6. Correct\n",
      "You have to change the denominator to 150 then you will get the answer. Neither\n",
      "i think this is because 9/15=18/30 and 6/10 =18-30. Correct\n",
      "if you simplify it to 3/5 then you get 9/15. Neither\n",
      "since 9 - 3 = 6h are so i't must be these ohne! Neither\n",
      "so the common denominator is 30 and the product of 15x2=30 so 9x2, which is a multiple of 9, is 18 and 10x3 =30, so ax3, which we know is 18, is 18. therefore, a=6. Correct\n",
      "this is because the top numbers go up in threes, and the bottom number go down in fives. Misconception\n"
     ]
    }
   ],
   "source": [
    "# Based on the question, we know that correct answer is `6`\n",
    "for row in train_df.loc[\n",
    "    (train_df.QuestionId == 31778)\n",
    "    & (train_df.MC_Answer == \"\\\\( 9 \\\\)\")\n",
    "    & (train_df.Correct_Answer == \"True\")\n",
    "][[\"StudentExplanation\", \"Explanation_Eval\"]].itertuples():\n",
    "    explanation = row.StudentExplanation\n",
    "    misconception = row.Explanation_Eval\n",
    "    print(explanation, misconception)"
   ]
  },
  {
   "cell_type": "code",
   "execution_count": 19,
   "metadata": {},
   "outputs": [
    {
     "data": {
      "text/html": [
       "<div>\n",
       "<style scoped>\n",
       "    .dataframe tbody tr th:only-of-type {\n",
       "        vertical-align: middle;\n",
       "    }\n",
       "\n",
       "    .dataframe tbody tr th {\n",
       "        vertical-align: top;\n",
       "    }\n",
       "\n",
       "    .dataframe thead th {\n",
       "        text-align: right;\n",
       "    }\n",
       "</style>\n",
       "<table border=\"1\" class=\"dataframe\">\n",
       "  <thead>\n",
       "    <tr style=\"text-align: right;\">\n",
       "      <th></th>\n",
       "      <th>row_id</th>\n",
       "      <th>QuestionId</th>\n",
       "      <th>QuestionText</th>\n",
       "      <th>MC_Answer</th>\n",
       "      <th>StudentExplanation</th>\n",
       "      <th>Misconception</th>\n",
       "      <th>Correct_Answer</th>\n",
       "      <th>Explanation_Eval</th>\n",
       "    </tr>\n",
       "  </thead>\n",
       "  <tbody>\n",
       "    <tr>\n",
       "      <th>0</th>\n",
       "      <td>0</td>\n",
       "      <td>31772</td>\n",
       "      <td>What fraction of the shape is not shaded? Give...</td>\n",
       "      <td>\\( \\frac{1}{3} \\)</td>\n",
       "      <td>0ne third is equal to tree nineth</td>\n",
       "      <td>NA</td>\n",
       "      <td>True</td>\n",
       "      <td>Correct</td>\n",
       "    </tr>\n",
       "    <tr>\n",
       "      <th>1</th>\n",
       "      <td>1</td>\n",
       "      <td>31772</td>\n",
       "      <td>What fraction of the shape is not shaded? Give...</td>\n",
       "      <td>\\( \\frac{1}{3} \\)</td>\n",
       "      <td>1 / 3 because 6 over 9 is 2 thirds and 1 third...</td>\n",
       "      <td>NA</td>\n",
       "      <td>True</td>\n",
       "      <td>Correct</td>\n",
       "    </tr>\n",
       "  </tbody>\n",
       "</table>\n",
       "</div>"
      ],
      "text/plain": [
       "   row_id  QuestionId                                       QuestionText  \\\n",
       "0       0       31772  What fraction of the shape is not shaded? Give...   \n",
       "1       1       31772  What fraction of the shape is not shaded? Give...   \n",
       "\n",
       "           MC_Answer                                 StudentExplanation  \\\n",
       "0  \\( \\frac{1}{3} \\)                  0ne third is equal to tree nineth   \n",
       "1  \\( \\frac{1}{3} \\)  1 / 3 because 6 over 9 is 2 thirds and 1 third...   \n",
       "\n",
       "  Misconception Correct_Answer Explanation_Eval  \n",
       "0            NA           True          Correct  \n",
       "1            NA           True          Correct  "
      ]
     },
     "execution_count": 19,
     "metadata": {},
     "output_type": "execute_result"
    }
   ],
   "source": [
    "# Misconception classification seems to be fine\n",
    "# Let's only change Correct_Answer to False\n",
    "train_df.loc[\n",
    "    (train_df.QuestionId == 31778)\n",
    "    & (train_df.MC_Answer == \"\\\\( 9 \\\\)\")\n",
    "    & (train_df.Correct_Answer == \"True\"),\n",
    "    \"Correct_Answer\",\n",
    "] = \"False\"\n",
    "\n",
    "# Let's verify we didn't break anything\n",
    "train_df.head(2)"
   ]
  },
  {
   "cell_type": "code",
   "execution_count": 20,
   "metadata": {},
   "outputs": [
    {
     "data": {
      "text/html": [
       "<div>\n",
       "<style scoped>\n",
       "    .dataframe tbody tr th:only-of-type {\n",
       "        vertical-align: middle;\n",
       "    }\n",
       "\n",
       "    .dataframe tbody tr th {\n",
       "        vertical-align: top;\n",
       "    }\n",
       "\n",
       "    .dataframe thead th {\n",
       "        text-align: right;\n",
       "    }\n",
       "</style>\n",
       "<table border=\"1\" class=\"dataframe\">\n",
       "  <thead>\n",
       "    <tr style=\"text-align: right;\">\n",
       "      <th></th>\n",
       "      <th>QuestionId</th>\n",
       "      <th>MC_Answer</th>\n",
       "    </tr>\n",
       "  </thead>\n",
       "  <tbody>\n",
       "  </tbody>\n",
       "</table>\n",
       "</div>"
      ],
      "text/plain": [
       "Empty DataFrame\n",
       "Columns: [QuestionId, MC_Answer]\n",
       "Index: []"
      ]
     },
     "execution_count": 20,
     "metadata": {},
     "output_type": "execute_result"
    }
   ],
   "source": [
    "# Verify that problem is fixed\n",
    "# Refresh dataframe\n",
    "question_correct_answer = group_questions_with_correct_answers()\n",
    "question_correct_answer[question_correct_answer[\"MC_Answer\"].apply(len) != 1]"
   ]
  },
  {
   "cell_type": "markdown",
   "metadata": {},
   "source": [
    "#### Fix Incorrect Answers\n",
    "\n",
    "`Correct_Answer` says `False` but `MC_Answer` is correct."
   ]
  },
  {
   "cell_type": "code",
   "execution_count": 21,
   "metadata": {},
   "outputs": [
    {
     "data": {
      "text/html": [
       "<div>\n",
       "<style scoped>\n",
       "    .dataframe tbody tr th:only-of-type {\n",
       "        vertical-align: middle;\n",
       "    }\n",
       "\n",
       "    .dataframe tbody tr th {\n",
       "        vertical-align: top;\n",
       "    }\n",
       "\n",
       "    .dataframe thead th {\n",
       "        text-align: right;\n",
       "    }\n",
       "</style>\n",
       "<table border=\"1\" class=\"dataframe\">\n",
       "  <thead>\n",
       "    <tr style=\"text-align: right;\">\n",
       "      <th></th>\n",
       "      <th>QuestionId</th>\n",
       "      <th>MC_Answer</th>\n",
       "    </tr>\n",
       "  </thead>\n",
       "  <tbody>\n",
       "    <tr>\n",
       "      <th>0</th>\n",
       "      <td>31772</td>\n",
       "      <td>{\\( \\frac{3}{9} \\), \\( \\frac{3}{6} \\), \\( \\fra...</td>\n",
       "    </tr>\n",
       "    <tr>\n",
       "      <th>1</th>\n",
       "      <td>31774</td>\n",
       "      <td>{\\( \\frac{1}{3} \\), \\( \\frac{6}{2} \\), \\( 3 \\)}</td>\n",
       "    </tr>\n",
       "    <tr>\n",
       "      <th>2</th>\n",
       "      <td>31777</td>\n",
       "      <td>{\\( 60 \\), \\( 48 \\), \\( 24 \\)}</td>\n",
       "    </tr>\n",
       "    <tr>\n",
       "      <th>3</th>\n",
       "      <td>31778</td>\n",
       "      <td>{\\( 9 \\), \\( 6 \\), \\( 4 \\), \\( 3 \\)}</td>\n",
       "    </tr>\n",
       "    <tr>\n",
       "      <th>4</th>\n",
       "      <td>32829</td>\n",
       "      <td>{\\( 48 \\), \\( 4 \\), \\( 22 \\)}</td>\n",
       "    </tr>\n",
       "    <tr>\n",
       "      <th>5</th>\n",
       "      <td>32833</td>\n",
       "      <td>{\\( \\frac{10}{15} \\), \\( \\frac{2}{15} \\), \\( 5...</td>\n",
       "    </tr>\n",
       "    <tr>\n",
       "      <th>6</th>\n",
       "      <td>32835</td>\n",
       "      <td>{\\( 6.079 \\), \\( 6 \\), \\( 6.0001 \\)}</td>\n",
       "    </tr>\n",
       "    <tr>\n",
       "      <th>7</th>\n",
       "      <td>33471</td>\n",
       "      <td>{\\( 8 \\), \\( 9 \\), \\( 3 \\)}</td>\n",
       "    </tr>\n",
       "    <tr>\n",
       "      <th>8</th>\n",
       "      <td>33472</td>\n",
       "      <td>{\\( \\frac{11}{30} \\), \\( \\frac{3}{15} \\), \\( \\...</td>\n",
       "    </tr>\n",
       "    <tr>\n",
       "      <th>9</th>\n",
       "      <td>33474</td>\n",
       "      <td>{\\( \\frac{2}{3} \\div \\frac{1}{3} \\), \\( \\frac{...</td>\n",
       "    </tr>\n",
       "    <tr>\n",
       "      <th>10</th>\n",
       "      <td>76870</td>\n",
       "      <td>{Not enough information, \\( 6 \\), \\( 5 \\)}</td>\n",
       "    </tr>\n",
       "    <tr>\n",
       "      <th>11</th>\n",
       "      <td>89443</td>\n",
       "      <td>{\\( 13 \\), \\( -13 \\), \\( 3 \\)}</td>\n",
       "    </tr>\n",
       "    <tr>\n",
       "      <th>12</th>\n",
       "      <td>91695</td>\n",
       "      <td>{\\( 22 \\), \\( 36 \\), \\( 20 \\)}</td>\n",
       "    </tr>\n",
       "    <tr>\n",
       "      <th>13</th>\n",
       "      <td>104665</td>\n",
       "      <td>{\\( 64 \\) hours, \\( 768 \\) hours, \\( 192 \\) ho...</td>\n",
       "    </tr>\n",
       "    <tr>\n",
       "      <th>14</th>\n",
       "      <td>109465</td>\n",
       "      <td>{Impossible, Unlikely, Certain}</td>\n",
       "    </tr>\n",
       "  </tbody>\n",
       "</table>\n",
       "</div>"
      ],
      "text/plain": [
       "    QuestionId                                          MC_Answer\n",
       "0        31772  {\\( \\frac{3}{9} \\), \\( \\frac{3}{6} \\), \\( \\fra...\n",
       "1        31774    {\\( \\frac{1}{3} \\), \\( \\frac{6}{2} \\), \\( 3 \\)}\n",
       "2        31777                     {\\( 60 \\), \\( 48 \\), \\( 24 \\)}\n",
       "3        31778               {\\( 9 \\), \\( 6 \\), \\( 4 \\), \\( 3 \\)}\n",
       "4        32829                      {\\( 48 \\), \\( 4 \\), \\( 22 \\)}\n",
       "5        32833  {\\( \\frac{10}{15} \\), \\( \\frac{2}{15} \\), \\( 5...\n",
       "6        32835               {\\( 6.079 \\), \\( 6 \\), \\( 6.0001 \\)}\n",
       "7        33471                        {\\( 8 \\), \\( 9 \\), \\( 3 \\)}\n",
       "8        33472  {\\( \\frac{11}{30} \\), \\( \\frac{3}{15} \\), \\( \\...\n",
       "9        33474  {\\( \\frac{2}{3} \\div \\frac{1}{3} \\), \\( \\frac{...\n",
       "10       76870         {Not enough information, \\( 6 \\), \\( 5 \\)}\n",
       "11       89443                     {\\( 13 \\), \\( -13 \\), \\( 3 \\)}\n",
       "12       91695                     {\\( 22 \\), \\( 36 \\), \\( 20 \\)}\n",
       "13      104665  {\\( 64 \\) hours, \\( 768 \\) hours, \\( 192 \\) ho...\n",
       "14      109465                    {Impossible, Unlikely, Certain}"
      ]
     },
     "execution_count": 21,
     "metadata": {},
     "output_type": "execute_result"
    }
   ],
   "source": [
    "# Group questions with wrong answers\n",
    "def group_questions_with_incorrect_answers():\n",
    "    return train_df[train_df[\"Correct_Answer\"] == \"False\"][[\"QuestionId\", \"MC_Answer\"]].groupby(\"QuestionId\").agg(set).reset_index()\n",
    "\n",
    "question_wrong_answer = group_questions_with_incorrect_answers()\n",
    "question_wrong_answer"
   ]
  },
  {
   "cell_type": "code",
   "execution_count": 22,
   "metadata": {},
   "outputs": [
    {
     "name": "stdout",
     "output_type": "stream",
     "text": [
      "31778 {'\\\\( 9 \\\\)', '\\\\( 6 \\\\)', '\\\\( 4 \\\\)', '\\\\( 3 \\\\)'}\n"
     ]
    }
   ],
   "source": [
    "# Check if correct answer is not among the wrong answers\n",
    "# That would mean that MC_Answer is correct for QuestionId, but Category says otherwise\n",
    "for questionId in question_wrong_answer.QuestionId:\n",
    "    correct_answers = question_correct_answer[question_correct_answer.QuestionId == questionId].MC_Answer.iloc[0]\n",
    "    wrong_answers = question_wrong_answer[question_wrong_answer.QuestionId == questionId].MC_Answer.iloc[0]\n",
    "\n",
    "    if list(correct_answers)[0] in wrong_answers:\n",
    "        print(questionId, wrong_answers) "
   ]
  },
  {
   "cell_type": "code",
   "execution_count": 23,
   "metadata": {},
   "outputs": [
    {
     "name": "stdout",
     "output_type": "stream",
     "text": [
      "Because on the second fraction it has a 9. Neither\n",
      "Because when I work is out with rthe bar methood che awser comed up with 9. Neither\n",
      "becose thirty tope number is a nine. Neither\n",
      "i worked it out on my white board Neither\n",
      "m'y dad andave i bothe guessed that we nedded to use la common denominator, but i wasn't ' t sur how that woulld work whith improper fractions. Neither\n",
      "tha answear is d becase yoy can ' t simplify 9. Neither\n"
     ]
    }
   ],
   "source": [
    "# Correct answer is `6`\n",
    "# Let's check explanations first to see whether student mistakenly chose 6, or there is error in category\n",
    "for row in train_df.loc[\n",
    "    (train_df.QuestionId == 31778)\n",
    "    & (train_df.MC_Answer == \"\\\\( 6 \\\\)\")\n",
    "    & (train_df.Correct_Answer == \"False\")\n",
    "][[\"StudentExplanation\", \"Explanation_Eval\"]].itertuples():\n",
    "    explanation = row.StudentExplanation\n",
    "    misconception = row.Explanation_Eval\n",
    "    print(explanation, misconception)"
   ]
  },
  {
   "cell_type": "code",
   "execution_count": 24,
   "metadata": {},
   "outputs": [
    {
     "data": {
      "text/html": [
       "<div>\n",
       "<style scoped>\n",
       "    .dataframe tbody tr th:only-of-type {\n",
       "        vertical-align: middle;\n",
       "    }\n",
       "\n",
       "    .dataframe tbody tr th {\n",
       "        vertical-align: top;\n",
       "    }\n",
       "\n",
       "    .dataframe thead th {\n",
       "        text-align: right;\n",
       "    }\n",
       "</style>\n",
       "<table border=\"1\" class=\"dataframe\">\n",
       "  <thead>\n",
       "    <tr style=\"text-align: right;\">\n",
       "      <th></th>\n",
       "      <th>row_id</th>\n",
       "      <th>QuestionId</th>\n",
       "      <th>QuestionText</th>\n",
       "      <th>MC_Answer</th>\n",
       "      <th>StudentExplanation</th>\n",
       "      <th>Misconception</th>\n",
       "      <th>Correct_Answer</th>\n",
       "      <th>Explanation_Eval</th>\n",
       "    </tr>\n",
       "  </thead>\n",
       "  <tbody>\n",
       "    <tr>\n",
       "      <th>0</th>\n",
       "      <td>0</td>\n",
       "      <td>31772</td>\n",
       "      <td>What fraction of the shape is not shaded? Give...</td>\n",
       "      <td>\\( \\frac{1}{3} \\)</td>\n",
       "      <td>0ne third is equal to tree nineth</td>\n",
       "      <td>NA</td>\n",
       "      <td>True</td>\n",
       "      <td>Correct</td>\n",
       "    </tr>\n",
       "    <tr>\n",
       "      <th>1</th>\n",
       "      <td>1</td>\n",
       "      <td>31772</td>\n",
       "      <td>What fraction of the shape is not shaded? Give...</td>\n",
       "      <td>\\( \\frac{1}{3} \\)</td>\n",
       "      <td>1 / 3 because 6 over 9 is 2 thirds and 1 third...</td>\n",
       "      <td>NA</td>\n",
       "      <td>True</td>\n",
       "      <td>Correct</td>\n",
       "    </tr>\n",
       "  </tbody>\n",
       "</table>\n",
       "</div>"
      ],
      "text/plain": [
       "   row_id  QuestionId                                       QuestionText  \\\n",
       "0       0       31772  What fraction of the shape is not shaded? Give...   \n",
       "1       1       31772  What fraction of the shape is not shaded? Give...   \n",
       "\n",
       "           MC_Answer                                 StudentExplanation  \\\n",
       "0  \\( \\frac{1}{3} \\)                  0ne third is equal to tree nineth   \n",
       "1  \\( \\frac{1}{3} \\)  1 / 3 because 6 over 9 is 2 thirds and 1 third...   \n",
       "\n",
       "  Misconception Correct_Answer Explanation_Eval  \n",
       "0            NA           True          Correct  \n",
       "1            NA           True          Correct  "
      ]
     },
     "execution_count": 24,
     "metadata": {},
     "output_type": "execute_result"
    }
   ],
   "source": [
    "# It seems that most of them wanted to choose 9 - so let's replace 6 with 9 as answer.\n",
    "train_df.loc[\n",
    "    (train_df.QuestionId == 31778)\n",
    "    & (train_df.MC_Answer == \"\\\\( 6 \\\\)\")\n",
    "    & (train_df.Correct_Answer == \"False\"),\n",
    "    \"MC_Answer\",\n",
    "] = \"\\\\( 9 \\\\)\"\n",
    "\n",
    "# Check that we didn't break anything\n",
    "train_df.head(2)"
   ]
  },
  {
   "cell_type": "code",
   "execution_count": 25,
   "metadata": {},
   "outputs": [],
   "source": [
    "# Verify fix\n",
    "# Refresh dataframe\n",
    "question_wrong_answer = group_questions_with_incorrect_answers()\n",
    "for questionId in question_wrong_answer.QuestionId:\n",
    "    correct_answers = question_correct_answer[question_correct_answer.QuestionId == questionId].MC_Answer.iloc[0]\n",
    "    wrong_answers = question_wrong_answer[question_wrong_answer.QuestionId == questionId].MC_Answer.iloc[0]\n",
    "\n",
    "    if list(correct_answers)[0] in wrong_answers:\n",
    "        print(questionId, wrong_answers) "
   ]
  },
  {
   "cell_type": "markdown",
   "metadata": {},
   "source": [
    "### Prepare Input and Target"
   ]
  },
  {
   "cell_type": "code",
   "execution_count": 26,
   "metadata": {},
   "outputs": [
    {
     "data": {
      "text/html": [
       "<div>\n",
       "<style scoped>\n",
       "    .dataframe tbody tr th:only-of-type {\n",
       "        vertical-align: middle;\n",
       "    }\n",
       "\n",
       "    .dataframe tbody tr th {\n",
       "        vertical-align: top;\n",
       "    }\n",
       "\n",
       "    .dataframe thead th {\n",
       "        text-align: right;\n",
       "    }\n",
       "</style>\n",
       "<table border=\"1\" class=\"dataframe\">\n",
       "  <thead>\n",
       "    <tr style=\"text-align: right;\">\n",
       "      <th></th>\n",
       "      <th>row_id</th>\n",
       "      <th>QuestionId</th>\n",
       "      <th>QuestionText</th>\n",
       "      <th>MC_Answer</th>\n",
       "      <th>StudentExplanation</th>\n",
       "      <th>Misconception</th>\n",
       "      <th>Correct_Answer</th>\n",
       "      <th>Explanation_Eval</th>\n",
       "      <th>Category</th>\n",
       "    </tr>\n",
       "  </thead>\n",
       "  <tbody>\n",
       "    <tr>\n",
       "      <th>0</th>\n",
       "      <td>0</td>\n",
       "      <td>31772</td>\n",
       "      <td>What fraction of the shape is not shaded? Give...</td>\n",
       "      <td>\\( \\frac{1}{3} \\)</td>\n",
       "      <td>0ne third is equal to tree nineth</td>\n",
       "      <td>NA</td>\n",
       "      <td>True</td>\n",
       "      <td>Correct</td>\n",
       "      <td>True_Correct</td>\n",
       "    </tr>\n",
       "    <tr>\n",
       "      <th>1</th>\n",
       "      <td>1</td>\n",
       "      <td>31772</td>\n",
       "      <td>What fraction of the shape is not shaded? Give...</td>\n",
       "      <td>\\( \\frac{1}{3} \\)</td>\n",
       "      <td>1 / 3 because 6 over 9 is 2 thirds and 1 third...</td>\n",
       "      <td>NA</td>\n",
       "      <td>True</td>\n",
       "      <td>Correct</td>\n",
       "      <td>True_Correct</td>\n",
       "    </tr>\n",
       "  </tbody>\n",
       "</table>\n",
       "</div>"
      ],
      "text/plain": [
       "   row_id  QuestionId                                       QuestionText  \\\n",
       "0       0       31772  What fraction of the shape is not shaded? Give...   \n",
       "1       1       31772  What fraction of the shape is not shaded? Give...   \n",
       "\n",
       "           MC_Answer                                 StudentExplanation  \\\n",
       "0  \\( \\frac{1}{3} \\)                  0ne third is equal to tree nineth   \n",
       "1  \\( \\frac{1}{3} \\)  1 / 3 because 6 over 9 is 2 thirds and 1 third...   \n",
       "\n",
       "  Misconception Correct_Answer Explanation_Eval      Category  \n",
       "0            NA           True          Correct  True_Correct  \n",
       "1            NA           True          Correct  True_Correct  "
      ]
     },
     "execution_count": 26,
     "metadata": {},
     "output_type": "execute_result"
    }
   ],
   "source": [
    "# Let's bring back category\n",
    "train_df[\"Category\"] = train_df.Correct_Answer + \"_\" + train_df.Explanation_Eval\n",
    "train_df.head(2)"
   ]
  },
  {
   "cell_type": "code",
   "execution_count": 27,
   "metadata": {},
   "outputs": [
    {
     "data": {
      "text/html": [
       "<div>\n",
       "<style scoped>\n",
       "    .dataframe tbody tr th:only-of-type {\n",
       "        vertical-align: middle;\n",
       "    }\n",
       "\n",
       "    .dataframe tbody tr th {\n",
       "        vertical-align: top;\n",
       "    }\n",
       "\n",
       "    .dataframe thead th {\n",
       "        text-align: right;\n",
       "    }\n",
       "</style>\n",
       "<table border=\"1\" class=\"dataframe\">\n",
       "  <thead>\n",
       "    <tr style=\"text-align: right;\">\n",
       "      <th></th>\n",
       "      <th>row_id</th>\n",
       "      <th>QuestionId</th>\n",
       "      <th>QuestionText</th>\n",
       "      <th>MC_Answer</th>\n",
       "      <th>StudentExplanation</th>\n",
       "      <th>Correct_Answer</th>\n",
       "    </tr>\n",
       "  </thead>\n",
       "  <tbody>\n",
       "    <tr>\n",
       "      <th>0</th>\n",
       "      <td>36696</td>\n",
       "      <td>31772</td>\n",
       "      <td>What fraction of the shape is not shaded? Give...</td>\n",
       "      <td>\\( \\frac{1}{3} \\)</td>\n",
       "      <td>I think that 1/3 is the answer, as it's the si...</td>\n",
       "      <td>True</td>\n",
       "    </tr>\n",
       "    <tr>\n",
       "      <th>1</th>\n",
       "      <td>36697</td>\n",
       "      <td>31772</td>\n",
       "      <td>What fraction of the shape is not shaded? Give...</td>\n",
       "      <td>\\( \\frac{3}{6} \\)</td>\n",
       "      <td>i think this answer is because 3 triangles are...</td>\n",
       "      <td>False</td>\n",
       "    </tr>\n",
       "    <tr>\n",
       "      <th>2</th>\n",
       "      <td>36698</td>\n",
       "      <td>32835</td>\n",
       "      <td>Which number is the greatest?</td>\n",
       "      <td>\\( 6.2 \\)</td>\n",
       "      <td>because the 2 makes it higher than the others.</td>\n",
       "      <td>True</td>\n",
       "    </tr>\n",
       "  </tbody>\n",
       "</table>\n",
       "</div>"
      ],
      "text/plain": [
       "   row_id  QuestionId                                       QuestionText  \\\n",
       "0   36696       31772  What fraction of the shape is not shaded? Give...   \n",
       "1   36697       31772  What fraction of the shape is not shaded? Give...   \n",
       "2   36698       32835                      Which number is the greatest?   \n",
       "\n",
       "           MC_Answer                                 StudentExplanation  \\\n",
       "0  \\( \\frac{1}{3} \\)  I think that 1/3 is the answer, as it's the si...   \n",
       "1  \\( \\frac{3}{6} \\)  i think this answer is because 3 triangles are...   \n",
       "2          \\( 6.2 \\)     because the 2 makes it higher than the others.   \n",
       "\n",
       "   Correct_Answer  \n",
       "0            True  \n",
       "1           False  \n",
       "2            True  "
      ]
     },
     "execution_count": 27,
     "metadata": {},
     "output_type": "execute_result"
    }
   ],
   "source": [
    "# Based on the discussion here: https://www.kaggle.com/competitions/map-charting-student-math-misunderstandings/discussion/589400.\n",
    "# It seems public data have all the questions (secret test set doesn't include new questions).\n",
    "# So we can safely use correct answer flag in input data\n",
    "\n",
    "def add_correct_answer(dataframe):\n",
    "    dataframe[\"Correct_Answer\"] = [\n",
    "        list(question_correct_answer[question_correct_answer[\"QuestionId\"] == answer[\"QuestionId\"]][\"MC_Answer\"].iloc[0])[0] == answer[\"MC_Answer\"]\n",
    "        for index, answer in dataframe[[\"QuestionId\", \"MC_Answer\"]].iterrows()\n",
    "    ]\n",
    "    return dataframe\n",
    "\n",
    "test_df = add_correct_answer(test_df)\n",
    "test_df.head(3)"
   ]
  },
  {
   "cell_type": "code",
   "execution_count": 28,
   "metadata": {
    "execution": {
     "iopub.execute_input": "2025-08-13T02:06:22.388971Z",
     "iopub.status.busy": "2025-08-13T02:06:22.388572Z",
     "iopub.status.idle": "2025-08-13T02:06:22.494036Z",
     "shell.execute_reply": "2025-08-13T02:06:22.493005Z",
     "shell.execute_reply.started": "2025-08-13T02:06:22.388939Z"
    },
    "trusted": true
   },
   "outputs": [
    {
     "name": "stdout",
     "output_type": "stream",
     "text": [
      "Unique classes: 65\n",
      "Example label: True_Correct:NA\n",
      "Text example: What fraction of the shape is not shaded? Give your answer in its simplest form. [Image: A triangle split into 9 equal smaller triangles. 6 of them are shaded.] [MC] \\( \\frac{1}{3} \\) [CORRECT] True [EXPL] 0ne third is equal to tree nineth\n"
     ]
    }
   ],
   "source": [
    "# Build single target label \"Category:Misconception\"\n",
    "train_df[\"target\"] = (\n",
    "    train_df[\"Category\"].astype(str) + \":\" + train_df[\"Misconception\"].astype(str)\n",
    ")\n",
    "\n",
    "# Text features: concatenate question, MC answer, Is correct answer, and explanation\n",
    "def combine_text(df):\n",
    "    return (\n",
    "        df[\"QuestionText\"].fillna(\"\")\n",
    "        + \" [MC] \"\n",
    "        + df[\"MC_Answer\"].fillna(\"\")\n",
    "        + \" [CORRECT] \"\n",
    "        + df[\"Correct_Answer\"].astype(str)\n",
    "        + \" [EXPL] \"\n",
    "        + df[\"StudentExplanation\"].fillna(\"\")\n",
    "    )\n",
    "\n",
    "\n",
    "X_text = combine_text(train_df)\n",
    "X_test_text = combine_text(test_df)\n",
    "\n",
    "y = train_df[\"target\"].values\n",
    "groups = train_df[\"QuestionId\"].values\n",
    "\n",
    "print(\"Unique classes:\", len(np.unique(y)))\n",
    "print(\"Example label:\", y[0])\n",
    "print(\"Text example:\", X_text.iloc[0][:300])"
   ]
  },
  {
   "cell_type": "code",
   "execution_count": 29,
   "metadata": {},
   "outputs": [
    {
     "name": "stdout",
     "output_type": "stream",
     "text": [
      "Counts (sorted): [14796  6547  5260  1446   891   698   618   564   550   412   410   409\n",
      "   345   332   328   306   291   282   273   233   198   179   162   153\n",
      "   128    97    96    93    87    74    58    51    50    38    23    23\n",
      "    22    21    18    17    11     8     8     8     8     8     7     6\n",
      "     6     6     6     5     5     4     4     3     3     2     2     2\n",
      "     1     1     1     1     1]\n"
     ]
    },
    {
     "data": {
      "image/png": "[encoded data removed]",
      "text/plain": [
       "<Figure size 2000x1200 with 1 Axes>"
      ]
     },
     "metadata": {},
     "output_type": "display_data"
    }
   ],
   "source": [
    "# Find the unique classes and their counts\n",
    "classes, counts = np.unique(y, return_counts=True)\n",
    "\n",
    "# Sort the counts and classes in descending order\n",
    "sorted_indices = np.argsort(counts)[::-1]\n",
    "sorted_classes = classes[sorted_indices]\n",
    "sorted_counts = counts[sorted_indices]\n",
    "\n",
    "# Create a bar chart for visualization\n",
    "plt.figure(figsize=(20, 12))\n",
    "plt.bar(sorted_classes.astype(str), sorted_counts, color=\"skyblue\")\n",
    "plt.title(\"Distribution of Classes\")\n",
    "plt.xlabel(\"Class\")\n",
    "plt.ylabel(\"Count\")\n",
    "plt.xticks(rotation=90)\n",
    "plt.tight_layout()\n",
    "\n",
    "print(\"Counts (sorted):\", sorted_counts)"
   ]
  },
  {
   "cell_type": "markdown",
   "metadata": {},
   "source": [
    "## Model Pipeline"
   ]
  },
  {
   "cell_type": "code",
   "execution_count": 30,
   "metadata": {
    "execution": {
     "iopub.execute_input": "2025-08-13T02:06:51.538361Z",
     "iopub.status.busy": "2025-08-13T02:06:51.537444Z",
     "iopub.status.idle": "2025-08-13T02:06:51.564729Z",
     "shell.execute_reply": "2025-08-13T02:06:51.563736Z",
     "shell.execute_reply.started": "2025-08-13T02:06:51.538321Z"
    },
    "trusted": true
   },
   "outputs": [
    {
     "data": {
      "text/html": [
       "<style>#sk-container-id-1 {\n",
       "  /* Definition of color scheme common for light and dark mode */\n",
       "  --sklearn-color-text: black;\n",
       "  --sklearn-color-line: gray;\n",
       "  /* Definition of color scheme for unfitted estimators */\n",
       "  --sklearn-color-unfitted-level-0: #fff5e6;\n",
       "  --sklearn-color-unfitted-level-1: #f6e4d2;\n",
       "  --sklearn-color-unfitted-level-2: #ffe0b3;\n",
       "  --sklearn-color-unfitted-level-3: chocolate;\n",
       "  /* Definition of color scheme for fitted estimators */\n",
       "  --sklearn-color-fitted-level-0: #f0f8ff;\n",
       "  --sklearn-color-fitted-level-1: #d4ebff;\n",
       "  --sklearn-color-fitted-level-2: #b3dbfd;\n",
       "  --sklearn-color-fitted-level-3: cornflowerblue;\n",
       "\n",
       "  /* Specific color for light theme */\n",
       "  --sklearn-color-text-on-default-background: var(--sg-text-color, var(--theme-code-foreground, var(--jp-content-font-color1, black)));\n",
       "  --sklearn-color-background: var(--sg-background-color, var(--theme-background, var(--jp-layout-color0, white)));\n",
       "  --sklearn-color-border-box: var(--sg-text-color, var(--theme-code-foreground, var(--jp-content-font-color1, black)));\n",
       "  --sklearn-color-icon: #696969;\n",
       "\n",
       "  @media (prefers-color-scheme: dark) {\n",
       "    /* Redefinition of color scheme for dark theme */\n",
       "    --sklearn-color-text-on-default-background: var(--sg-text-color, var(--theme-code-foreground, var(--jp-content-font-color1, white)));\n",
       "    --sklearn-color-background: var(--sg-background-color, var(--theme-background, var(--jp-layout-color0, #111)));\n",
       "    --sklearn-color-border-box: var(--sg-text-color, var(--theme-code-foreground, var(--jp-content-font-color1, white)));\n",
       "    --sklearn-color-icon: #878787;\n",
       "  }\n",
       "}\n",
       "\n",
       "#sk-container-id-1 {\n",
       "  color: var(--sklearn-color-text);\n",
       "}\n",
       "\n",
       "#sk-container-id-1 pre {\n",
       "  padding: 0;\n",
       "}\n",
       "\n",
       "#sk-container-id-1 input.sk-hidden--visually {\n",
       "  border: 0;\n",
       "  clip: rect(1px 1px 1px 1px);\n",
       "  clip: rect(1px, 1px, 1px, 1px);\n",
       "  height: 1px;\n",
       "  margin: -1px;\n",
       "  overflow: hidden;\n",
       "  padding: 0;\n",
       "  position: absolute;\n",
       "  width: 1px;\n",
       "}\n",
       "\n",
       "#sk-container-id-1 div.sk-dashed-wrapped {\n",
       "  border: 1px dashed var(--sklearn-color-line);\n",
       "  margin: 0 0.4em 0.5em 0.4em;\n",
       "  box-sizing: border-box;\n",
       "  padding-bottom: 0.4em;\n",
       "  background-color: var(--sklearn-color-background);\n",
       "}\n",
       "\n",
       "#sk-container-id-1 div.sk-container {\n",
       "  /* jupyter's `normalize.less` sets `[hidden] { display: none; }`\n",
       "     but bootstrap.min.css set `[hidden] { display: none !important; }`\n",
       "     so we also need the `!important` here to be able to override the\n",
       "     default hidden behavior on the sphinx rendered scikit-learn.org.\n",
       "     See: https://github.com/scikit-learn/scikit-learn/issues/21755 */\n",
       "  display: inline-block !important;\n",
       "  position: relative;\n",
       "}\n",
       "\n",
       "#sk-container-id-1 div.sk-text-repr-fallback {\n",
       "  display: none;\n",
       "}\n",
       "\n",
       "div.sk-parallel-item,\n",
       "div.sk-serial,\n",
       "div.sk-item {\n",
       "  /* draw centered vertical line to link estimators */\n",
       "  background-image: linear-gradient(var(--sklearn-color-text-on-default-background), var(--sklearn-color-text-on-default-background));\n",
       "  background-size: 2px 100%;\n",
       "  background-repeat: no-repeat;\n",
       "  background-position: center center;\n",
       "}\n",
       "\n",
       "/* Parallel-specific style estimator block */\n",
       "\n",
       "#sk-container-id-1 div.sk-parallel-item::after {\n",
       "  content: \"\";\n",
       "  width: 100%;\n",
       "  border-bottom: 2px solid var(--sklearn-color-text-on-default-background);\n",
       "  flex-grow: 1;\n",
       "}\n",
       "\n",
       "#sk-container-id-1 div.sk-parallel {\n",
       "  display: flex;\n",
       "  align-items: stretch;\n",
       "  justify-content: center;\n",
       "  background-color: var(--sklearn-color-background);\n",
       "  position: relative;\n",
       "}\n",
       "\n",
       "#sk-container-id-1 div.sk-parallel-item {\n",
       "  display: flex;\n",
       "  flex-direction: column;\n",
       "}\n",
       "\n",
       "#sk-container-id-1 div.sk-parallel-item:first-child::after {\n",
       "  align-self: flex-end;\n",
       "  width: 50%;\n",
       "}\n",
       "\n",
       "#sk-container-id-1 div.sk-parallel-item:last-child::after {\n",
       "  align-self: flex-start;\n",
       "  width: 50%;\n",
       "}\n",
       "\n",
       "#sk-container-id-1 div.sk-parallel-item:only-child::after {\n",
       "  width: 0;\n",
       "}\n",
       "\n",
       "/* Serial-specific style estimator block */\n",
       "\n",
       "#sk-container-id-1 div.sk-serial {\n",
       "  display: flex;\n",
       "  flex-direction: column;\n",
       "  align-items: center;\n",
       "  background-color: var(--sklearn-color-background);\n",
       "  padding-right: 1em;\n",
       "  padding-left: 1em;\n",
       "}\n",
       "\n",
       "\n",
       "/* Toggleable style: style used for estimator/Pipeline/ColumnTransformer box that is\n",
       "clickable and can be expanded/collapsed.\n",
       "- Pipeline and ColumnTransformer use this feature and define the default style\n",
       "- Estimators will overwrite some part of the style using the `sk-estimator` class\n",
       "*/\n",
       "\n",
       "/* Pipeline and ColumnTransformer style (default) */\n",
       "\n",
       "#sk-container-id-1 div.sk-toggleable {\n",
       "  /* Default theme specific background. It is overwritten whether we have a\n",
       "  specific estimator or a Pipeline/ColumnTransformer */\n",
       "  background-color: var(--sklearn-color-background);\n",
       "}\n",
       "\n",
       "/* Toggleable label */\n",
       "#sk-container-id-1 label.sk-toggleable__label {\n",
       "  cursor: pointer;\n",
       "  display: block;\n",
       "  width: 100%;\n",
       "  margin-bottom: 0;\n",
       "  padding: 0.5em;\n",
       "  box-sizing: border-box;\n",
       "  text-align: center;\n",
       "}\n",
       "\n",
       "#sk-container-id-1 label.sk-toggleable__label-arrow:before {\n",
       "  /* Arrow on the left of the label */\n",
       "  content: \"▸\";\n",
       "  float: left;\n",
       "  margin-right: 0.25em;\n",
       "  color: var(--sklearn-color-icon);\n",
       "}\n",
       "\n",
       "#sk-container-id-1 label.sk-toggleable__label-arrow:hover:before {\n",
       "  color: var(--sklearn-color-text);\n",
       "}\n",
       "\n",
       "/* Toggleable content - dropdown */\n",
       "\n",
       "#sk-container-id-1 div.sk-toggleable__content {\n",
       "  max-height: 0;\n",
       "  max-width: 0;\n",
       "  overflow: hidden;\n",
       "  text-align: left;\n",
       "  /* unfitted */\n",
       "  background-color: var(--sklearn-color-unfitted-level-0);\n",
       "}\n",
       "\n",
       "#sk-container-id-1 div.sk-toggleable__content.fitted {\n",
       "  /* fitted */\n",
       "  background-color: var(--sklearn-color-fitted-level-0);\n",
       "}\n",
       "\n",
       "#sk-container-id-1 div.sk-toggleable__content pre {\n",
       "  margin: 0.2em;\n",
       "  border-radius: 0.25em;\n",
       "  color: var(--sklearn-color-text);\n",
       "  /* unfitted */\n",
       "  background-color: var(--sklearn-color-unfitted-level-0);\n",
       "}\n",
       "\n",
       "#sk-container-id-1 div.sk-toggleable__content.fitted pre {\n",
       "  /* unfitted */\n",
       "  background-color: var(--sklearn-color-fitted-level-0);\n",
       "}\n",
       "\n",
       "#sk-container-id-1 input.sk-toggleable__control:checked~div.sk-toggleable__content {\n",
       "  /* Expand drop-down */\n",
       "  max-height: 200px;\n",
       "  max-width: 100%;\n",
       "  overflow: auto;\n",
       "}\n",
       "\n",
       "#sk-container-id-1 input.sk-toggleable__control:checked~label.sk-toggleable__label-arrow:before {\n",
       "  content: \"▾\";\n",
       "}\n",
       "\n",
       "/* Pipeline/ColumnTransformer-specific style */\n",
       "\n",
       "#sk-container-id-1 div.sk-label input.sk-toggleable__control:checked~label.sk-toggleable__label {\n",
       "  color: var(--sklearn-color-text);\n",
       "  background-color: var(--sklearn-color-unfitted-level-2);\n",
       "}\n",
       "\n",
       "#sk-container-id-1 div.sk-label.fitted input.sk-toggleable__control:checked~label.sk-toggleable__label {\n",
       "  background-color: var(--sklearn-color-fitted-level-2);\n",
       "}\n",
       "\n",
       "/* Estimator-specific style */\n",
       "\n",
       "/* Colorize estimator box */\n",
       "#sk-container-id-1 div.sk-estimator input.sk-toggleable__control:checked~label.sk-toggleable__label {\n",
       "  /* unfitted */\n",
       "  background-color: var(--sklearn-color-unfitted-level-2);\n",
       "}\n",
       "\n",
       "#sk-container-id-1 div.sk-estimator.fitted input.sk-toggleable__control:checked~label.sk-toggleable__label {\n",
       "  /* fitted */\n",
       "  background-color: var(--sklearn-color-fitted-level-2);\n",
       "}\n",
       "\n",
       "#sk-container-id-1 div.sk-label label.sk-toggleable__label,\n",
       "#sk-container-id-1 div.sk-label label {\n",
       "  /* The background is the default theme color */\n",
       "  color: var(--sklearn-color-text-on-default-background);\n",
       "}\n",
       "\n",
       "/* On hover, darken the color of the background */\n",
       "#sk-container-id-1 div.sk-label:hover label.sk-toggleable__label {\n",
       "  color: var(--sklearn-color-text);\n",
       "  background-color: var(--sklearn-color-unfitted-level-2);\n",
       "}\n",
       "\n",
       "/* Label box, darken color on hover, fitted */\n",
       "#sk-container-id-1 div.sk-label.fitted:hover label.sk-toggleable__label.fitted {\n",
       "  color: var(--sklearn-color-text);\n",
       "  background-color: var(--sklearn-color-fitted-level-2);\n",
       "}\n",
       "\n",
       "/* Estimator label */\n",
       "\n",
       "#sk-container-id-1 div.sk-label label {\n",
       "  font-family: monospace;\n",
       "  font-weight: bold;\n",
       "  display: inline-block;\n",
       "  line-height: 1.2em;\n",
       "}\n",
       "\n",
       "#sk-container-id-1 div.sk-label-container {\n",
       "  text-align: center;\n",
       "}\n",
       "\n",
       "/* Estimator-specific */\n",
       "#sk-container-id-1 div.sk-estimator {\n",
       "  font-family: monospace;\n",
       "  border: 1px dotted var(--sklearn-color-border-box);\n",
       "  border-radius: 0.25em;\n",
       "  box-sizing: border-box;\n",
       "  margin-bottom: 0.5em;\n",
       "  /* unfitted */\n",
       "  background-color: var(--sklearn-color-unfitted-level-0);\n",
       "}\n",
       "\n",
       "#sk-container-id-1 div.sk-estimator.fitted {\n",
       "  /* fitted */\n",
       "  background-color: var(--sklearn-color-fitted-level-0);\n",
       "}\n",
       "\n",
       "/* on hover */\n",
       "#sk-container-id-1 div.sk-estimator:hover {\n",
       "  /* unfitted */\n",
       "  background-color: var(--sklearn-color-unfitted-level-2);\n",
       "}\n",
       "\n",
       "#sk-container-id-1 div.sk-estimator.fitted:hover {\n",
       "  /* fitted */\n",
       "  background-color: var(--sklearn-color-fitted-level-2);\n",
       "}\n",
       "\n",
       "/* Specification for estimator info (e.g. \"i\" and \"?\") */\n",
       "\n",
       "/* Common style for \"i\" and \"?\" */\n",
       "\n",
       ".sk-estimator-doc-link,\n",
       "a:link.sk-estimator-doc-link,\n",
       "a:visited.sk-estimator-doc-link {\n",
       "  float: right;\n",
       "  font-size: smaller;\n",
       "  line-height: 1em;\n",
       "  font-family: monospace;\n",
       "  background-color: var(--sklearn-color-background);\n",
       "  border-radius: 1em;\n",
       "  height: 1em;\n",
       "  width: 1em;\n",
       "  text-decoration: none !important;\n",
       "  margin-left: 1ex;\n",
       "  /* unfitted */\n",
       "  border: var(--sklearn-color-unfitted-level-1) 1pt solid;\n",
       "  color: var(--sklearn-color-unfitted-level-1);\n",
       "}\n",
       "\n",
       ".sk-estimator-doc-link.fitted,\n",
       "a:link.sk-estimator-doc-link.fitted,\n",
       "a:visited.sk-estimator-doc-link.fitted {\n",
       "  /* fitted */\n",
       "  border: var(--sklearn-color-fitted-level-1) 1pt solid;\n",
       "  color: var(--sklearn-color-fitted-level-1);\n",
       "}\n",
       "\n",
       "/* On hover */\n",
       "div.sk-estimator:hover .sk-estimator-doc-link:hover,\n",
       ".sk-estimator-doc-link:hover,\n",
       "div.sk-label-container:hover .sk-estimator-doc-link:hover,\n",
       ".sk-estimator-doc-link:hover {\n",
       "  /* unfitted */\n",
       "  background-color: var(--sklearn-color-unfitted-level-3);\n",
       "  color: var(--sklearn-color-background);\n",
       "  text-decoration: none;\n",
       "}\n",
       "\n",
       "div.sk-estimator.fitted:hover .sk-estimator-doc-link.fitted:hover,\n",
       ".sk-estimator-doc-link.fitted:hover,\n",
       "div.sk-label-container:hover .sk-estimator-doc-link.fitted:hover,\n",
       ".sk-estimator-doc-link.fitted:hover {\n",
       "  /* fitted */\n",
       "  background-color: var(--sklearn-color-fitted-level-3);\n",
       "  color: var(--sklearn-color-background);\n",
       "  text-decoration: none;\n",
       "}\n",
       "\n",
       "/* Span, style for the box shown on hovering the info icon */\n",
       ".sk-estimator-doc-link span {\n",
       "  display: none;\n",
       "  z-index: 9999;\n",
       "  position: relative;\n",
       "  font-weight: normal;\n",
       "  right: .2ex;\n",
       "  padding: .5ex;\n",
       "  margin: .5ex;\n",
       "  width: min-content;\n",
       "  min-width: 20ex;\n",
       "  max-width: 50ex;\n",
       "  color: var(--sklearn-color-text);\n",
       "  box-shadow: 2pt 2pt 4pt #999;\n",
       "  /* unfitted */\n",
       "  background: var(--sklearn-color-unfitted-level-0);\n",
       "  border: .5pt solid var(--sklearn-color-unfitted-level-3);\n",
       "}\n",
       "\n",
       ".sk-estimator-doc-link.fitted span {\n",
       "  /* fitted */\n",
       "  background: var(--sklearn-color-fitted-level-0);\n",
       "  border: var(--sklearn-color-fitted-level-3);\n",
       "}\n",
       "\n",
       ".sk-estimator-doc-link:hover span {\n",
       "  display: block;\n",
       "}\n",
       "\n",
       "/* \"?\"-specific style due to the `<a>` HTML tag */\n",
       "\n",
       "#sk-container-id-1 a.estimator_doc_link {\n",
       "  float: right;\n",
       "  font-size: 1rem;\n",
       "  line-height: 1em;\n",
       "  font-family: monospace;\n",
       "  background-color: var(--sklearn-color-background);\n",
       "  border-radius: 1rem;\n",
       "  height: 1rem;\n",
       "  width: 1rem;\n",
       "  text-decoration: none;\n",
       "  /* unfitted */\n",
       "  color: var(--sklearn-color-unfitted-level-1);\n",
       "  border: var(--sklearn-color-unfitted-level-1) 1pt solid;\n",
       "}\n",
       "\n",
       "#sk-container-id-1 a.estimator_doc_link.fitted {\n",
       "  /* fitted */\n",
       "  border: var(--sklearn-color-fitted-level-1) 1pt solid;\n",
       "  color: var(--sklearn-color-fitted-level-1);\n",
       "}\n",
       "\n",
       "/* On hover */\n",
       "#sk-container-id-1 a.estimator_doc_link:hover {\n",
       "  /* unfitted */\n",
       "  background-color: var(--sklearn-color-unfitted-level-3);\n",
       "  color: var(--sklearn-color-background);\n",
       "  text-decoration: none;\n",
       "}\n",
       "\n",
       "#sk-container-id-1 a.estimator_doc_link.fitted:hover {\n",
       "  /* fitted */\n",
       "  background-color: var(--sklearn-color-fitted-level-3);\n",
       "}\n",
       "</style><div id=\"sk-container-id-1\" class=\"sk-top-container\"><div class=\"sk-text-repr-fallback\"><pre>Pipeline(steps=[(&#x27;features&#x27;,\n",
       "                 FeatureUnion(transformer_list=[(&#x27;word_features&#x27;,\n",
       "                                                 Pipeline(steps=[(&#x27;vectorizer&#x27;,\n",
       "                                                                  TfidfVectorizer(max_features=250000,\n",
       "                                                                                  min_df=2,\n",
       "                                                                                  ngram_range=(1,\n",
       "                                                                                               2),\n",
       "                                                                                  strip_accents=&#x27;unicode&#x27;))])),\n",
       "                                                (&#x27;char_features&#x27;,\n",
       "                                                 Pipeline(steps=[(&#x27;vectorizer&#x27;,\n",
       "                                                                  TfidfVectorizer(analyzer=&#x27;char_wb&#x27;,\n",
       "                                                                                  max_features=250000,\n",
       "                                                                                  min_df=2,\n",
       "                                                                                  ngram_range=(3,\n",
       "                                                                                               5),\n",
       "                                                                                  strip_accents=&#x27;unicode&#x27;))]))])),\n",
       "                (&#x27;clf&#x27;,\n",
       "                 SGDClassifier(alpha=1e-05, class_weight=&#x27;balanced&#x27;,\n",
       "                               loss=&#x27;log_loss&#x27;, max_iter=10000, random_state=42,\n",
       "                               tol=0.0001))])</pre><b>In a Jupyter environment, please rerun this cell to show the HTML representation or trust the notebook. <br />On GitHub, the HTML representation is unable to render, please try loading this page with nbviewer.org.</b></div><div class=\"sk-container\" hidden><div class=\"sk-item sk-dashed-wrapped\"><div class=\"sk-label-container\"><div class=\"sk-label  sk-toggleable\"><input class=\"sk-toggleable__control sk-hidden--visually\" id=\"sk-estimator-id-1\" type=\"checkbox\" ><label for=\"sk-estimator-id-1\" class=\"sk-toggleable__label  sk-toggleable__label-arrow \">&nbsp;&nbsp;Pipeline<a class=\"sk-estimator-doc-link \" rel=\"noreferrer\" target=\"_blank\" href=\"https://scikit-learn.org/1.5/modules/generated/sklearn.pipeline.Pipeline.html\">?<span>Documentation for Pipeline</span></a><span class=\"sk-estimator-doc-link \">i<span>Not fitted</span></span></label><div class=\"sk-toggleable__content \"><pre>Pipeline(steps=[(&#x27;features&#x27;,\n",
       "                 FeatureUnion(transformer_list=[(&#x27;word_features&#x27;,\n",
       "                                                 Pipeline(steps=[(&#x27;vectorizer&#x27;,\n",
       "                                                                  TfidfVectorizer(max_features=250000,\n",
       "                                                                                  min_df=2,\n",
       "                                                                                  ngram_range=(1,\n",
       "                                                                                               2),\n",
       "                                                                                  strip_accents=&#x27;unicode&#x27;))])),\n",
       "                                                (&#x27;char_features&#x27;,\n",
       "                                                 Pipeline(steps=[(&#x27;vectorizer&#x27;,\n",
       "                                                                  TfidfVectorizer(analyzer=&#x27;char_wb&#x27;,\n",
       "                                                                                  max_features=250000,\n",
       "                                                                                  min_df=2,\n",
       "                                                                                  ngram_range=(3,\n",
       "                                                                                               5),\n",
       "                                                                                  strip_accents=&#x27;unicode&#x27;))]))])),\n",
       "                (&#x27;clf&#x27;,\n",
       "                 SGDClassifier(alpha=1e-05, class_weight=&#x27;balanced&#x27;,\n",
       "                               loss=&#x27;log_loss&#x27;, max_iter=10000, random_state=42,\n",
       "                               tol=0.0001))])</pre></div> </div></div><div class=\"sk-serial\"><div class=\"sk-item sk-dashed-wrapped\"><div class=\"sk-label-container\"><div class=\"sk-label  sk-toggleable\"><input class=\"sk-toggleable__control sk-hidden--visually\" id=\"sk-estimator-id-2\" type=\"checkbox\" ><label for=\"sk-estimator-id-2\" class=\"sk-toggleable__label  sk-toggleable__label-arrow \">&nbsp;features: FeatureUnion<a class=\"sk-estimator-doc-link \" rel=\"noreferrer\" target=\"_blank\" href=\"https://scikit-learn.org/1.5/modules/generated/sklearn.pipeline.FeatureUnion.html\">?<span>Documentation for features: FeatureUnion</span></a></label><div class=\"sk-toggleable__content \"><pre>FeatureUnion(transformer_list=[(&#x27;word_features&#x27;,\n",
       "                                Pipeline(steps=[(&#x27;vectorizer&#x27;,\n",
       "                                                 TfidfVectorizer(max_features=250000,\n",
       "                                                                 min_df=2,\n",
       "                                                                 ngram_range=(1,\n",
       "                                                                              2),\n",
       "                                                                 strip_accents=&#x27;unicode&#x27;))])),\n",
       "                               (&#x27;char_features&#x27;,\n",
       "                                Pipeline(steps=[(&#x27;vectorizer&#x27;,\n",
       "                                                 TfidfVectorizer(analyzer=&#x27;char_wb&#x27;,\n",
       "                                                                 max_features=250000,\n",
       "                                                                 min_df=2,\n",
       "                                                                 ngram_range=(3,\n",
       "                                                                              5),\n",
       "                                                                 strip_accents=&#x27;unicode&#x27;))]))])</pre></div> </div></div><div class=\"sk-parallel\"><div class=\"sk-parallel-item\"><div class=\"sk-item\"><div class=\"sk-label-container\"><div class=\"sk-label  sk-toggleable\"><label>word_features</label></div></div><div class=\"sk-serial\"><div class=\"sk-item\"><div class=\"sk-serial\"><div class=\"sk-item\"><div class=\"sk-estimator  sk-toggleable\"><input class=\"sk-toggleable__control sk-hidden--visually\" id=\"sk-estimator-id-3\" type=\"checkbox\" ><label for=\"sk-estimator-id-3\" class=\"sk-toggleable__label  sk-toggleable__label-arrow \">&nbsp;TfidfVectorizer<a class=\"sk-estimator-doc-link \" rel=\"noreferrer\" target=\"_blank\" href=\"https://scikit-learn.org/1.5/modules/generated/sklearn.feature_extraction.text.TfidfVectorizer.html\">?<span>Documentation for TfidfVectorizer</span></a></label><div class=\"sk-toggleable__content \"><pre>TfidfVectorizer(max_features=250000, min_df=2, ngram_range=(1, 2),\n",
       "                strip_accents=&#x27;unicode&#x27;)</pre></div> </div></div></div></div></div></div></div><div class=\"sk-parallel-item\"><div class=\"sk-item\"><div class=\"sk-label-container\"><div class=\"sk-label  sk-toggleable\"><label>char_features</label></div></div><div class=\"sk-serial\"><div class=\"sk-item\"><div class=\"sk-serial\"><div class=\"sk-item\"><div class=\"sk-estimator  sk-toggleable\"><input class=\"sk-toggleable__control sk-hidden--visually\" id=\"sk-estimator-id-4\" type=\"checkbox\" ><label for=\"sk-estimator-id-4\" class=\"sk-toggleable__label  sk-toggleable__label-arrow \">&nbsp;TfidfVectorizer<a class=\"sk-estimator-doc-link \" rel=\"noreferrer\" target=\"_blank\" href=\"https://scikit-learn.org/1.5/modules/generated/sklearn.feature_extraction.text.TfidfVectorizer.html\">?<span>Documentation for TfidfVectorizer</span></a></label><div class=\"sk-toggleable__content \"><pre>TfidfVectorizer(analyzer=&#x27;char_wb&#x27;, max_features=250000, min_df=2,\n",
       "                ngram_range=(3, 5), strip_accents=&#x27;unicode&#x27;)</pre></div> </div></div></div></div></div></div></div></div></div><div class=\"sk-item\"><div class=\"sk-estimator  sk-toggleable\"><input class=\"sk-toggleable__control sk-hidden--visually\" id=\"sk-estimator-id-5\" type=\"checkbox\" ><label for=\"sk-estimator-id-5\" class=\"sk-toggleable__label  sk-toggleable__label-arrow \">&nbsp;SGDClassifier<a class=\"sk-estimator-doc-link \" rel=\"noreferrer\" target=\"_blank\" href=\"https://scikit-learn.org/1.5/modules/generated/sklearn.linear_model.SGDClassifier.html\">?<span>Documentation for SGDClassifier</span></a></label><div class=\"sk-toggleable__content \"><pre>SGDClassifier(alpha=1e-05, class_weight=&#x27;balanced&#x27;, loss=&#x27;log_loss&#x27;,\n",
       "              max_iter=10000, random_state=42, tol=0.0001)</pre></div> </div></div></div></div></div></div>"
      ],
      "text/plain": [
       "Pipeline(steps=[('features',\n",
       "                 FeatureUnion(transformer_list=[('word_features',\n",
       "                                                 Pipeline(steps=[('vectorizer',\n",
       "                                                                  TfidfVectorizer(max_features=250000,\n",
       "                                                                                  min_df=2,\n",
       "                                                                                  ngram_range=(1,\n",
       "                                                                                               2),\n",
       "                                                                                  strip_accents='unicode'))])),\n",
       "                                                ('char_features',\n",
       "                                                 Pipeline(steps=[('vectorizer',\n",
       "                                                                  TfidfVectorizer(analyzer='char_wb',\n",
       "                                                                                  max_features=250000,\n",
       "                                                                                  min_df=2,\n",
       "                                                                                  ngram_range=(3,\n",
       "                                                                                               5),\n",
       "                                                                                  strip_accents='unicode'))]))])),\n",
       "                ('clf',\n",
       "                 SGDClassifier(alpha=1e-05, class_weight='balanced',\n",
       "                               loss='log_loss', max_iter=10000, random_state=42,\n",
       "                               tol=0.0001))])"
      ]
     },
     "execution_count": 30,
     "metadata": {},
     "output_type": "execute_result"
    }
   ],
   "source": [
    "# A simple but strong baseline:\n",
    "# - Char-level TF-IDF (3-5 grams)\n",
    "# - Word-level TF-IDF (1-2 grams)\n",
    "# - SGDClassifier with log_loss to get predict_proba for many classes efficiently\n",
    "\n",
    "# Word-level pipeline\n",
    "word_pipeline = Pipeline(\n",
    "    [\n",
    "        (\n",
    "            \"vectorizer\",\n",
    "            TfidfVectorizer(\n",
    "                analyzer=\"word\",\n",
    "                lowercase=True,\n",
    "                strip_accents=\"unicode\",\n",
    "                ngram_range=(1, 2),\n",
    "                max_features=250_000,\n",
    "                min_df=2,\n",
    "            ),\n",
    "        ),\n",
    "    ]\n",
    ")\n",
    "\n",
    "# Character-level pipeline\n",
    "char_pipeline = Pipeline(\n",
    "    [\n",
    "        (\n",
    "            \"vectorizer\",\n",
    "            TfidfVectorizer(\n",
    "                lowercase=True,\n",
    "                strip_accents=\"unicode\",\n",
    "                analyzer=\"char_wb\",\n",
    "                ngram_range=(3, 5),\n",
    "                max_features=250_000,\n",
    "                min_df=2,\n",
    "            ),\n",
    "        ),\n",
    "    ]\n",
    ")\n",
    "\n",
    "# Combine both pipelines using FeatureUnion\n",
    "combined_features = FeatureUnion(\n",
    "    [(\"word_features\", word_pipeline), (\"char_features\", char_pipeline)]\n",
    ")\n",
    "\n",
    "pipeline = Pipeline(\n",
    "    [\n",
    "        (\"features\", combined_features),\n",
    "        (\n",
    "            \"clf\",\n",
    "            SGDClassifier(\n",
    "                loss=\"log_loss\",\n",
    "                penalty=\"l2\",\n",
    "                alpha=1e-5,\n",
    "                max_iter=10_000,\n",
    "                tol=1e-4,\n",
    "                random_state=42,\n",
    "                class_weight=\"balanced\",\n",
    "            ),\n",
    "        ),\n",
    "    ]\n",
    ")\n",
    "\n",
    "pipeline"
   ]
  },
  {
   "cell_type": "markdown",
   "metadata": {},
   "source": [
    "## Evaluation"
   ]
  },
  {
   "cell_type": "markdown",
   "metadata": {},
   "source": [
    "### Cross-Validation"
   ]
  },
  {
   "cell_type": "code",
   "execution_count": 31,
   "metadata": {
    "execution": {
     "iopub.execute_input": "2025-08-13T02:06:55.621182Z",
     "iopub.status.busy": "2025-08-13T02:06:55.620842Z",
     "iopub.status.idle": "2025-08-13T02:07:56.428625Z",
     "shell.execute_reply": "2025-08-13T02:07:56.427705Z",
     "shell.execute_reply.started": "2025-08-13T02:06:55.62116Z"
    },
    "trusted": true
   },
   "outputs": [
    {
     "name": "stdout",
     "output_type": "stream",
     "text": [
      "Fold 1 MAP@3: 0.64500\n",
      "Fold 2 MAP@3: 0.59495\n",
      "Fold 3 MAP@3: 0.62940\n",
      "Fold 4 MAP@3: 0.59977\n",
      "Fold 5 MAP@3: 0.66644\n",
      "\n",
      "CV MAP@3 (mean over out-of-fold): 0.62783\n"
     ]
    }
   ],
   "source": [
    "N_FOLDS = 5\n",
    "gkf = GroupKFold(n_splits=N_FOLDS)\n",
    "\n",
    "oof_true = []\n",
    "oof_pred_single = []\n",
    "oof_pred_topk = []\n",
    "\n",
    "for fold, (tr_idx, va_idx) in enumerate(gkf.split(X_text, y, groups), 1):\n",
    "    X_tr, X_va = X_text.iloc[tr_idx], X_text.iloc[va_idx]\n",
    "    y_tr, y_va = y[tr_idx], y[va_idx]\n",
    "\n",
    "    model = clone(pipeline)\n",
    "    model.fit(X_tr, y_tr)\n",
    "\n",
    "    # Predict probabilities for validation\n",
    "    proba = model.predict_proba(X_va)\n",
    "    classes = model.named_steps['clf'].classes_\n",
    "\n",
    "    # Single predictions (highest probability)\n",
    "    pred_single = model.predict(X_va)\n",
    "\n",
    "    # Top-k predictions for MAP@3\n",
    "    pred_topk = [topk_from_proba(classes, row, k=3) for row in proba]\n",
    "\n",
    "    oof_true.extend(list(y_va))\n",
    "    oof_pred_single.extend(pred_single)\n",
    "    oof_pred_topk.extend(pred_topk)\n",
    "\n",
    "    fold_map3 = mapk(list(y_va), pred_topk, k=3)\n",
    "    print(f\"Fold {fold} MAP@3: {fold_map3:.5f}\")\n",
    "    gc.collect()\n",
    "\n",
    "cv_map3 = mapk(oof_true, oof_pred_topk, k=3)\n",
    "print(f\"\\nCV MAP@3 (mean over out-of-fold): {cv_map3:.5f}\")"
   ]
  },
  {
   "cell_type": "markdown",
   "metadata": {},
   "source": [
    "### Top-k confusion analysis"
   ]
  },
  {
   "cell_type": "code",
   "execution_count": 32,
   "metadata": {},
   "outputs": [
    {
     "name": "stdout",
     "output_type": "stream",
     "text": [
      "\n",
      "=== Top-3 Prediction Analysis ===\n",
      "Correct at position 1: 19920 (54.3%)\n",
      "Correct at position 2: 5492 (15.0%)\n",
      "Correct at position 3: 1118 (3.0%)\n",
      "Not in top-3: 10166 (27.7%)\n"
     ]
    }
   ],
   "source": [
    "def analyze_topk_predictions(y_true, y_pred_topk, k=3):\n",
    "    \"\"\"Analyze how often true labels appear in top-k predictions\"\"\"\n",
    "    correct_at_k = []\n",
    "    \n",
    "    for true_label, pred_topk in zip(y_true, y_pred_topk):\n",
    "        if true_label in pred_topk:\n",
    "            position = pred_topk.index(true_label) + 1  # 1-indexed\n",
    "            correct_at_k.append(position)\n",
    "        else:\n",
    "            correct_at_k.append(0)  # Not in top-k\n",
    "    \n",
    "    print(f\"\\n=== Top-{k} Prediction Analysis ===\")\n",
    "    for pos in range(1, k+1):\n",
    "        count = sum(1 for x in correct_at_k if x == pos)\n",
    "        pct = count / len(correct_at_k) * 100\n",
    "        print(f\"Correct at position {pos}: {count} ({pct:.1f}%)\")\n",
    "    \n",
    "    not_in_topk = sum(1 for x in correct_at_k if x == 0)\n",
    "    pct_not_in_topk = not_in_topk / len(correct_at_k) * 100\n",
    "    print(f\"Not in top-{k}: {not_in_topk} ({pct_not_in_topk:.1f}%)\")\n",
    "\n",
    "analyze_topk_predictions(oof_true, oof_pred_topk, k=3)"
   ]
  },
  {
   "cell_type": "markdown",
   "metadata": {},
   "source": [
    "### Analyze misclassifications in detail"
   ]
  },
  {
   "cell_type": "code",
   "execution_count": 33,
   "metadata": {},
   "outputs": [
    {
     "name": "stdout",
     "output_type": "stream",
     "text": [
      "=== Class-by-Class Misclassification Analysis ===\n",
      "(Sorted by misclassification - worst first)\n",
      "\n",
      "                                                True_Class  Total_Samples  Correct  Accuracy_%  Misclassified  Misclassification_%                Most_Frequent_Error  Error_Count  Error_%_of_Class\n",
      "                                           True_Correct:NA          14796    10963        74.1           3833                 25.9                    True_Neither:NA         3268              22.1\n",
      "                                           True_Neither:NA           5260     3029        57.6           2231                 42.4                    True_Correct:NA         2083              39.6\n",
      "                            False_Misconception:Incomplete           1446        0         0.0           1446                100.0                   False_Neither:NA         1417              98.0\n",
      "                              False_Misconception:Additive            891        0         0.0            891                100.0                   False_Neither:NA          380              42.6\n",
      "                           False_Misconception:Duplication            698        0         0.0            698                100.0       False_Misconception:Additive          320              45.8\n",
      "                                          False_Neither:NA           6547     5889        89.9            658                 10.1                   False_Correct:NA          131               2.0\n",
      "                           False_Misconception:Subtraction            618        0         0.0            618                100.0                   False_Neither:NA          591              95.6\n",
      "                              False_Misconception:Positive            564        0         0.0            564                100.0                   False_Neither:NA          463              82.1\n",
      "                            False_Misconception:Wrong_term            550        0         0.0            550                100.0                   False_Neither:NA          455              82.7\n",
      "                        False_Misconception:Wrong_fraction            412        0         0.0            412                100.0                   False_Neither:NA          280              68.0\n",
      "                             False_Misconception:Inversion            409        0         0.0            409                100.0                   False_Neither:NA          193              47.2\n",
      "                            False_Misconception:Irrelevant            410       14         3.4            396                 96.6                   False_Neither:NA          316              77.1\n",
      "                                  False_Misconception:Mult            345        0         0.0            345                100.0                   False_Neither:NA          314              91.0\n",
      "               False_Misconception:Denominator-only_change            332        0         0.0            332                100.0                   False_Neither:NA          281              84.6\n",
      "                  False_Misconception:Whole_numbers_larger            328        0         0.0            328                100.0                   False_Neither:NA          321              97.9\n",
      "                         False_Misconception:Adding_across            306        0         0.0            306                100.0                   False_Neither:NA          303              99.0\n",
      "                                   False_Misconception:WNB            291        0         0.0            291                100.0                   False_Neither:NA          290              99.7\n",
      "                            False_Misconception:Unknowable            282        0         0.0            282                100.0                   False_Neither:NA          280              99.3\n",
      "                        False_Misconception:Wrong_Fraction            273        0         0.0            273                100.0                   False_Neither:NA          228              83.5\n",
      "                                          False_Correct:NA            233       25        10.7            208                 89.3                   False_Neither:NA          174              74.7\n",
      "                          False_Misconception:SwapDividend            198        0         0.0            198                100.0                   False_Neither:NA          132              66.7\n",
      "                                 False_Misconception:Scale            179        0         0.0            179                100.0                   False_Neither:NA          177              98.9\n",
      "                                True_Misconception:Tacking            162        0         0.0            162                100.0                    True_Neither:NA          116              71.6\n",
      "                          False_Misconception:Not_variable            153        0         0.0            153                100.0       False_Misconception:Additive           54              35.3\n",
      "                               False_Misconception:Tacking            128        0         0.0            128                100.0                   False_Neither:NA          108              84.4\n",
      "                          False_Misconception:Adding_terms             97        0         0.0             97                100.0     False_Misconception:Wrong_term           87              89.7\n",
      "                             False_Misconception:Firstterm             96        0         0.0             96                100.0                   False_Neither:NA           96             100.0\n",
      "                      False_Misconception:Multiplying_by_4             93        0         0.0             93                100.0                   False_Neither:NA           84              90.3\n",
      "                             True_Misconception:Irrelevant             87        0         0.0             87                100.0                    True_Neither:NA           53              60.9\n",
      "                            False_Misconception:FlipChange             74        0         0.0             74                100.0                   False_Neither:NA           46              62.2\n",
      "                              False_Misconception:Division             58        0         0.0             58                100.0                   False_Neither:NA           56              96.6\n",
      "                            False_Misconception:Definition             51        0         0.0             51                100.0                   False_Neither:NA           51             100.0\n",
      "                              False_Misconception:Interior             50        0         0.0             50                100.0                   False_Neither:NA           49              98.0\n",
      "                               True_Misconception:Additive             38        0         0.0             38                100.0                    True_Neither:NA           21              55.3\n",
      "                      False_Misconception:Longer_is_bigger             23        0         0.0             23                100.0                   False_Neither:NA           21              91.3\n",
      "                        False_Misconception:Ignores_zeroes             23        0         0.0             23                100.0                   False_Neither:NA           21              91.3\n",
      "                             False_Misconception:Base_rate             22        0         0.0             22                100.0                   False_Neither:NA           22             100.0\n",
      "                     False_Misconception:Inverse_operation             21        0         0.0             21                100.0 False_Misconception:Wrong_Fraction           21             100.0\n",
      "                             False_Misconception:Certainty             18        0         0.0             18                100.0                   False_Neither:NA           18             100.0\n",
      "                      True_Misconception:Shorter_is_bigger             17        0         0.0             17                100.0                    True_Neither:NA           14              82.4\n",
      "                              True_Misconception:Firstterm             11        0         0.0             11                100.0                    True_Correct:NA           11             100.0\n",
      "                             True_Misconception:Incomplete              8        0         0.0              8                100.0                    True_Correct:NA            4              50.0\n",
      "                             True_Misconception:Wrong_term              8        0         0.0              8                100.0                    True_Correct:NA            8             100.0\n",
      "                                    True_Misconception:WNB              8        0         0.0              8                100.0                    True_Correct:NA            8             100.0\n",
      "                           True_Misconception:SwapDividend              8        0         0.0              8                100.0                    True_Correct:NA            6              75.0\n",
      "                                   True_Misconception:Mult              8        0         0.0              8                100.0                    True_Neither:NA            6              75.0\n",
      "False_Misconception:Incorrect_equivalent_fraction_addition              7        0         0.0              7                100.0                   False_Neither:NA            7             100.0\n",
      "                     False_Misconception:Shorter_is_bigger              6        0         0.0              6                100.0                   False_Neither:NA            6             100.0\n",
      "                            True_Misconception:Duplication              6        0         0.0              6                100.0                    True_Correct:NA            5              83.3\n",
      "                       False_Misconception:Wrong_Operation              6        0         0.0              6                100.0                   False_Neither:NA            5              83.3\n",
      "                         True_Misconception:Wrong_fraction              6        0         0.0              6                100.0                    True_Correct:NA            6             100.0\n",
      "                              True_Misconception:Inversion              5        0         0.0              5                100.0                    True_Correct:NA            3              60.0\n",
      "                               True_Misconception:Division              5        0         0.0              5                100.0                    True_Neither:NA            3              60.0\n",
      "                             True_Misconception:FlipChange              4        0         0.0              4                100.0                    True_Correct:NA            4             100.0\n",
      "                True_Misconception:Denominator-only_change              4        0         0.0              4                100.0                    True_Correct:NA            4             100.0\n",
      "                       True_Misconception:Multiplying_by_4              3        0         0.0              3                100.0                    True_Correct:NA            2              66.7\n",
      "                             True_Misconception:Definition              3        0         0.0              3                100.0                    True_Correct:NA            3             100.0\n",
      "                               True_Misconception:Positive              2        0         0.0              2                100.0                    True_Correct:NA            1              50.0\n",
      " True_Misconception:Incorrect_equivalent_fraction_addition              2        0         0.0              2                100.0                    True_Neither:NA            2             100.0\n",
      "                            True_Misconception:Subtraction              2        0         0.0              2                100.0                    True_Neither:NA            2             100.0\n",
      "                              True_Misconception:Base_rate              1        0         0.0              1                100.0                    True_Neither:NA            1             100.0\n",
      "                           True_Misconception:Not_variable              1        0         0.0              1                100.0                    True_Correct:NA            1             100.0\n",
      "                          True_Misconception:Adding_across              1        0         0.0              1                100.0                    True_Correct:NA            1             100.0\n",
      "                   True_Misconception:Whole_numbers_larger              1        0         0.0              1                100.0                    True_Neither:NA            1             100.0\n",
      "                       True_Misconception:Longer_is_bigger              1        0         0.0              1                100.0                    True_Neither:NA            1             100.0\n"
     ]
    }
   ],
   "source": [
    "def analyze_misclassifications(y_true, y_pred, classes):\n",
    "    cm = confusion_matrix(y_true, y_pred, labels=classes)\n",
    "\n",
    "    # Percentage confusion matrix\n",
    "    cm_pct = cm.astype(\"float\") / cm.sum(axis=1)[:, np.newaxis] * 100\n",
    "\n",
    "    # Create summary table for each class\n",
    "    summary_data = []\n",
    "\n",
    "    for i, true_class in enumerate(classes):\n",
    "        total_samples = cm[i].sum()\n",
    "        correct_predictions = cm[i, i]\n",
    "        misclassifications = total_samples - correct_predictions\n",
    "\n",
    "        if total_samples > 0:\n",
    "            misclassification_rate = (misclassifications / total_samples) * 100\n",
    "            accuracy = (correct_predictions / total_samples) * 100\n",
    "\n",
    "            # Find most frequent wrong prediction\n",
    "            wrong_predictions = [\n",
    "                (classes[j], cm[i, j], cm_pct[i, j])\n",
    "                for j in range(len(classes))\n",
    "                if i != j and cm[i, j] > 0\n",
    "            ]\n",
    "\n",
    "            if wrong_predictions:\n",
    "                # Sort by count (not percentage) to find most frequent error\n",
    "                most_frequent_error = max(wrong_predictions, key=lambda x: x[1])\n",
    "                most_frequent_error_class = most_frequent_error[0]\n",
    "                most_frequent_error_count = most_frequent_error[1]\n",
    "                most_frequent_error_pct = most_frequent_error[2]\n",
    "            else:\n",
    "                most_frequent_error_class = \"None\"\n",
    "                most_frequent_error_count = 0\n",
    "                most_frequent_error_pct = 0.0\n",
    "\n",
    "            summary_data.append(\n",
    "                {\n",
    "                    \"True_Class\": true_class,\n",
    "                    \"Total_Samples\": total_samples,\n",
    "                    \"Correct\": correct_predictions,\n",
    "                    \"Accuracy_%\": accuracy,\n",
    "                    \"Misclassified\": misclassifications,\n",
    "                    \"Misclassification_%\": misclassification_rate,\n",
    "                    \"Most_Frequent_Error\": most_frequent_error_class,\n",
    "                    \"Error_Count\": most_frequent_error_count,\n",
    "                    \"Error_%_of_Class\": most_frequent_error_pct,\n",
    "                }\n",
    "            )\n",
    "\n",
    "    # Create summary DataFrame\n",
    "    summary_df = pd.DataFrame(summary_data)\n",
    "\n",
    "    # Sort by misclassification rate (worst performing classes first)\n",
    "    summary_df = summary_df.sort_values(\"Misclassified\", ascending=False)\n",
    "\n",
    "    print(\"=== Class-by-Class Misclassification Analysis ===\")\n",
    "    print(\"(Sorted by misclassification - worst first)\")\n",
    "    print()\n",
    "    print(summary_df.to_string(index=False, float_format=\"%.1f\"))\n",
    "\n",
    "all_classes = sorted(set(oof_true))\n",
    "analyze_misclassifications(oof_true, oof_pred_single, all_classes)"
   ]
  },
  {
   "cell_type": "markdown",
   "metadata": {},
   "source": [
    "## Full Dataset Training"
   ]
  },
  {
   "cell_type": "code",
   "execution_count": 34,
   "metadata": {},
   "outputs": [
    {
     "data": {
      "text/html": [
       "<style>#sk-container-id-2 {\n",
       "  /* Definition of color scheme common for light and dark mode */\n",
       "  --sklearn-color-text: black;\n",
       "  --sklearn-color-line: gray;\n",
       "  /* Definition of color scheme for unfitted estimators */\n",
       "  --sklearn-color-unfitted-level-0: #fff5e6;\n",
       "  --sklearn-color-unfitted-level-1: #f6e4d2;\n",
       "  --sklearn-color-unfitted-level-2: #ffe0b3;\n",
       "  --sklearn-color-unfitted-level-3: chocolate;\n",
       "  /* Definition of color scheme for fitted estimators */\n",
       "  --sklearn-color-fitted-level-0: #f0f8ff;\n",
       "  --sklearn-color-fitted-level-1: #d4ebff;\n",
       "  --sklearn-color-fitted-level-2: #b3dbfd;\n",
       "  --sklearn-color-fitted-level-3: cornflowerblue;\n",
       "\n",
       "  /* Specific color for light theme */\n",
       "  --sklearn-color-text-on-default-background: var(--sg-text-color, var(--theme-code-foreground, var(--jp-content-font-color1, black)));\n",
       "  --sklearn-color-background: var(--sg-background-color, var(--theme-background, var(--jp-layout-color0, white)));\n",
       "  --sklearn-color-border-box: var(--sg-text-color, var(--theme-code-foreground, var(--jp-content-font-color1, black)));\n",
       "  --sklearn-color-icon: #696969;\n",
       "\n",
       "  @media (prefers-color-scheme: dark) {\n",
       "    /* Redefinition of color scheme for dark theme */\n",
       "    --sklearn-color-text-on-default-background: var(--sg-text-color, var(--theme-code-foreground, var(--jp-content-font-color1, white)));\n",
       "    --sklearn-color-background: var(--sg-background-color, var(--theme-background, var(--jp-layout-color0, #111)));\n",
       "    --sklearn-color-border-box: var(--sg-text-color, var(--theme-code-foreground, var(--jp-content-font-color1, white)));\n",
       "    --sklearn-color-icon: #878787;\n",
       "  }\n",
       "}\n",
       "\n",
       "#sk-container-id-2 {\n",
       "  color: var(--sklearn-color-text);\n",
       "}\n",
       "\n",
       "#sk-container-id-2 pre {\n",
       "  padding: 0;\n",
       "}\n",
       "\n",
       "#sk-container-id-2 input.sk-hidden--visually {\n",
       "  border: 0;\n",
       "  clip: rect(1px 1px 1px 1px);\n",
       "  clip: rect(1px, 1px, 1px, 1px);\n",
       "  height: 1px;\n",
       "  margin: -1px;\n",
       "  overflow: hidden;\n",
       "  padding: 0;\n",
       "  position: absolute;\n",
       "  width: 1px;\n",
       "}\n",
       "\n",
       "#sk-container-id-2 div.sk-dashed-wrapped {\n",
       "  border: 1px dashed var(--sklearn-color-line);\n",
       "  margin: 0 0.4em 0.5em 0.4em;\n",
       "  box-sizing: border-box;\n",
       "  padding-bottom: 0.4em;\n",
       "  background-color: var(--sklearn-color-background);\n",
       "}\n",
       "\n",
       "#sk-container-id-2 div.sk-container {\n",
       "  /* jupyter's `normalize.less` sets `[hidden] { display: none; }`\n",
       "     but bootstrap.min.css set `[hidden] { display: none !important; }`\n",
       "     so we also need the `!important` here to be able to override the\n",
       "     default hidden behavior on the sphinx rendered scikit-learn.org.\n",
       "     See: https://github.com/scikit-learn/scikit-learn/issues/21755 */\n",
       "  display: inline-block !important;\n",
       "  position: relative;\n",
       "}\n",
       "\n",
       "#sk-container-id-2 div.sk-text-repr-fallback {\n",
       "  display: none;\n",
       "}\n",
       "\n",
       "div.sk-parallel-item,\n",
       "div.sk-serial,\n",
       "div.sk-item {\n",
       "  /* draw centered vertical line to link estimators */\n",
       "  background-image: linear-gradient(var(--sklearn-color-text-on-default-background), var(--sklearn-color-text-on-default-background));\n",
       "  background-size: 2px 100%;\n",
       "  background-repeat: no-repeat;\n",
       "  background-position: center center;\n",
       "}\n",
       "\n",
       "/* Parallel-specific style estimator block */\n",
       "\n",
       "#sk-container-id-2 div.sk-parallel-item::after {\n",
       "  content: \"\";\n",
       "  width: 100%;\n",
       "  border-bottom: 2px solid var(--sklearn-color-text-on-default-background);\n",
       "  flex-grow: 1;\n",
       "}\n",
       "\n",
       "#sk-container-id-2 div.sk-parallel {\n",
       "  display: flex;\n",
       "  align-items: stretch;\n",
       "  justify-content: center;\n",
       "  background-color: var(--sklearn-color-background);\n",
       "  position: relative;\n",
       "}\n",
       "\n",
       "#sk-container-id-2 div.sk-parallel-item {\n",
       "  display: flex;\n",
       "  flex-direction: column;\n",
       "}\n",
       "\n",
       "#sk-container-id-2 div.sk-parallel-item:first-child::after {\n",
       "  align-self: flex-end;\n",
       "  width: 50%;\n",
       "}\n",
       "\n",
       "#sk-container-id-2 div.sk-parallel-item:last-child::after {\n",
       "  align-self: flex-start;\n",
       "  width: 50%;\n",
       "}\n",
       "\n",
       "#sk-container-id-2 div.sk-parallel-item:only-child::after {\n",
       "  width: 0;\n",
       "}\n",
       "\n",
       "/* Serial-specific style estimator block */\n",
       "\n",
       "#sk-container-id-2 div.sk-serial {\n",
       "  display: flex;\n",
       "  flex-direction: column;\n",
       "  align-items: center;\n",
       "  background-color: var(--sklearn-color-background);\n",
       "  padding-right: 1em;\n",
       "  padding-left: 1em;\n",
       "}\n",
       "\n",
       "\n",
       "/* Toggleable style: style used for estimator/Pipeline/ColumnTransformer box that is\n",
       "clickable and can be expanded/collapsed.\n",
       "- Pipeline and ColumnTransformer use this feature and define the default style\n",
       "- Estimators will overwrite some part of the style using the `sk-estimator` class\n",
       "*/\n",
       "\n",
       "/* Pipeline and ColumnTransformer style (default) */\n",
       "\n",
       "#sk-container-id-2 div.sk-toggleable {\n",
       "  /* Default theme specific background. It is overwritten whether we have a\n",
       "  specific estimator or a Pipeline/ColumnTransformer */\n",
       "  background-color: var(--sklearn-color-background);\n",
       "}\n",
       "\n",
       "/* Toggleable label */\n",
       "#sk-container-id-2 label.sk-toggleable__label {\n",
       "  cursor: pointer;\n",
       "  display: block;\n",
       "  width: 100%;\n",
       "  margin-bottom: 0;\n",
       "  padding: 0.5em;\n",
       "  box-sizing: border-box;\n",
       "  text-align: center;\n",
       "}\n",
       "\n",
       "#sk-container-id-2 label.sk-toggleable__label-arrow:before {\n",
       "  /* Arrow on the left of the label */\n",
       "  content: \"▸\";\n",
       "  float: left;\n",
       "  margin-right: 0.25em;\n",
       "  color: var(--sklearn-color-icon);\n",
       "}\n",
       "\n",
       "#sk-container-id-2 label.sk-toggleable__label-arrow:hover:before {\n",
       "  color: var(--sklearn-color-text);\n",
       "}\n",
       "\n",
       "/* Toggleable content - dropdown */\n",
       "\n",
       "#sk-container-id-2 div.sk-toggleable__content {\n",
       "  max-height: 0;\n",
       "  max-width: 0;\n",
       "  overflow: hidden;\n",
       "  text-align: left;\n",
       "  /* unfitted */\n",
       "  background-color: var(--sklearn-color-unfitted-level-0);\n",
       "}\n",
       "\n",
       "#sk-container-id-2 div.sk-toggleable__content.fitted {\n",
       "  /* fitted */\n",
       "  background-color: var(--sklearn-color-fitted-level-0);\n",
       "}\n",
       "\n",
       "#sk-container-id-2 div.sk-toggleable__content pre {\n",
       "  margin: 0.2em;\n",
       "  border-radius: 0.25em;\n",
       "  color: var(--sklearn-color-text);\n",
       "  /* unfitted */\n",
       "  background-color: var(--sklearn-color-unfitted-level-0);\n",
       "}\n",
       "\n",
       "#sk-container-id-2 div.sk-toggleable__content.fitted pre {\n",
       "  /* unfitted */\n",
       "  background-color: var(--sklearn-color-fitted-level-0);\n",
       "}\n",
       "\n",
       "#sk-container-id-2 input.sk-toggleable__control:checked~div.sk-toggleable__content {\n",
       "  /* Expand drop-down */\n",
       "  max-height: 200px;\n",
       "  max-width: 100%;\n",
       "  overflow: auto;\n",
       "}\n",
       "\n",
       "#sk-container-id-2 input.sk-toggleable__control:checked~label.sk-toggleable__label-arrow:before {\n",
       "  content: \"▾\";\n",
       "}\n",
       "\n",
       "/* Pipeline/ColumnTransformer-specific style */\n",
       "\n",
       "#sk-container-id-2 div.sk-label input.sk-toggleable__control:checked~label.sk-toggleable__label {\n",
       "  color: var(--sklearn-color-text);\n",
       "  background-color: var(--sklearn-color-unfitted-level-2);\n",
       "}\n",
       "\n",
       "#sk-container-id-2 div.sk-label.fitted input.sk-toggleable__control:checked~label.sk-toggleable__label {\n",
       "  background-color: var(--sklearn-color-fitted-level-2);\n",
       "}\n",
       "\n",
       "/* Estimator-specific style */\n",
       "\n",
       "/* Colorize estimator box */\n",
       "#sk-container-id-2 div.sk-estimator input.sk-toggleable__control:checked~label.sk-toggleable__label {\n",
       "  /* unfitted */\n",
       "  background-color: var(--sklearn-color-unfitted-level-2);\n",
       "}\n",
       "\n",
       "#sk-container-id-2 div.sk-estimator.fitted input.sk-toggleable__control:checked~label.sk-toggleable__label {\n",
       "  /* fitted */\n",
       "  background-color: var(--sklearn-color-fitted-level-2);\n",
       "}\n",
       "\n",
       "#sk-container-id-2 div.sk-label label.sk-toggleable__label,\n",
       "#sk-container-id-2 div.sk-label label {\n",
       "  /* The background is the default theme color */\n",
       "  color: var(--sklearn-color-text-on-default-background);\n",
       "}\n",
       "\n",
       "/* On hover, darken the color of the background */\n",
       "#sk-container-id-2 div.sk-label:hover label.sk-toggleable__label {\n",
       "  color: var(--sklearn-color-text);\n",
       "  background-color: var(--sklearn-color-unfitted-level-2);\n",
       "}\n",
       "\n",
       "/* Label box, darken color on hover, fitted */\n",
       "#sk-container-id-2 div.sk-label.fitted:hover label.sk-toggleable__label.fitted {\n",
       "  color: var(--sklearn-color-text);\n",
       "  background-color: var(--sklearn-color-fitted-level-2);\n",
       "}\n",
       "\n",
       "/* Estimator label */\n",
       "\n",
       "#sk-container-id-2 div.sk-label label {\n",
       "  font-family: monospace;\n",
       "  font-weight: bold;\n",
       "  display: inline-block;\n",
       "  line-height: 1.2em;\n",
       "}\n",
       "\n",
       "#sk-container-id-2 div.sk-label-container {\n",
       "  text-align: center;\n",
       "}\n",
       "\n",
       "/* Estimator-specific */\n",
       "#sk-container-id-2 div.sk-estimator {\n",
       "  font-family: monospace;\n",
       "  border: 1px dotted var(--sklearn-color-border-box);\n",
       "  border-radius: 0.25em;\n",
       "  box-sizing: border-box;\n",
       "  margin-bottom: 0.5em;\n",
       "  /* unfitted */\n",
       "  background-color: var(--sklearn-color-unfitted-level-0);\n",
       "}\n",
       "\n",
       "#sk-container-id-2 div.sk-estimator.fitted {\n",
       "  /* fitted */\n",
       "  background-color: var(--sklearn-color-fitted-level-0);\n",
       "}\n",
       "\n",
       "/* on hover */\n",
       "#sk-container-id-2 div.sk-estimator:hover {\n",
       "  /* unfitted */\n",
       "  background-color: var(--sklearn-color-unfitted-level-2);\n",
       "}\n",
       "\n",
       "#sk-container-id-2 div.sk-estimator.fitted:hover {\n",
       "  /* fitted */\n",
       "  background-color: var(--sklearn-color-fitted-level-2);\n",
       "}\n",
       "\n",
       "/* Specification for estimator info (e.g. \"i\" and \"?\") */\n",
       "\n",
       "/* Common style for \"i\" and \"?\" */\n",
       "\n",
       ".sk-estimator-doc-link,\n",
       "a:link.sk-estimator-doc-link,\n",
       "a:visited.sk-estimator-doc-link {\n",
       "  float: right;\n",
       "  font-size: smaller;\n",
       "  line-height: 1em;\n",
       "  font-family: monospace;\n",
       "  background-color: var(--sklearn-color-background);\n",
       "  border-radius: 1em;\n",
       "  height: 1em;\n",
       "  width: 1em;\n",
       "  text-decoration: none !important;\n",
       "  margin-left: 1ex;\n",
       "  /* unfitted */\n",
       "  border: var(--sklearn-color-unfitted-level-1) 1pt solid;\n",
       "  color: var(--sklearn-color-unfitted-level-1);\n",
       "}\n",
       "\n",
       ".sk-estimator-doc-link.fitted,\n",
       "a:link.sk-estimator-doc-link.fitted,\n",
       "a:visited.sk-estimator-doc-link.fitted {\n",
       "  /* fitted */\n",
       "  border: var(--sklearn-color-fitted-level-1) 1pt solid;\n",
       "  color: var(--sklearn-color-fitted-level-1);\n",
       "}\n",
       "\n",
       "/* On hover */\n",
       "div.sk-estimator:hover .sk-estimator-doc-link:hover,\n",
       ".sk-estimator-doc-link:hover,\n",
       "div.sk-label-container:hover .sk-estimator-doc-link:hover,\n",
       ".sk-estimator-doc-link:hover {\n",
       "  /* unfitted */\n",
       "  background-color: var(--sklearn-color-unfitted-level-3);\n",
       "  color: var(--sklearn-color-background);\n",
       "  text-decoration: none;\n",
       "}\n",
       "\n",
       "div.sk-estimator.fitted:hover .sk-estimator-doc-link.fitted:hover,\n",
       ".sk-estimator-doc-link.fitted:hover,\n",
       "div.sk-label-container:hover .sk-estimator-doc-link.fitted:hover,\n",
       ".sk-estimator-doc-link.fitted:hover {\n",
       "  /* fitted */\n",
       "  background-color: var(--sklearn-color-fitted-level-3);\n",
       "  color: var(--sklearn-color-background);\n",
       "  text-decoration: none;\n",
       "}\n",
       "\n",
       "/* Span, style for the box shown on hovering the info icon */\n",
       ".sk-estimator-doc-link span {\n",
       "  display: none;\n",
       "  z-index: 9999;\n",
       "  position: relative;\n",
       "  font-weight: normal;\n",
       "  right: .2ex;\n",
       "  padding: .5ex;\n",
       "  margin: .5ex;\n",
       "  width: min-content;\n",
       "  min-width: 20ex;\n",
       "  max-width: 50ex;\n",
       "  color: var(--sklearn-color-text);\n",
       "  box-shadow: 2pt 2pt 4pt #999;\n",
       "  /* unfitted */\n",
       "  background: var(--sklearn-color-unfitted-level-0);\n",
       "  border: .5pt solid var(--sklearn-color-unfitted-level-3);\n",
       "}\n",
       "\n",
       ".sk-estimator-doc-link.fitted span {\n",
       "  /* fitted */\n",
       "  background: var(--sklearn-color-fitted-level-0);\n",
       "  border: var(--sklearn-color-fitted-level-3);\n",
       "}\n",
       "\n",
       ".sk-estimator-doc-link:hover span {\n",
       "  display: block;\n",
       "}\n",
       "\n",
       "/* \"?\"-specific style due to the `<a>` HTML tag */\n",
       "\n",
       "#sk-container-id-2 a.estimator_doc_link {\n",
       "  float: right;\n",
       "  font-size: 1rem;\n",
       "  line-height: 1em;\n",
       "  font-family: monospace;\n",
       "  background-color: var(--sklearn-color-background);\n",
       "  border-radius: 1rem;\n",
       "  height: 1rem;\n",
       "  width: 1rem;\n",
       "  text-decoration: none;\n",
       "  /* unfitted */\n",
       "  color: var(--sklearn-color-unfitted-level-1);\n",
       "  border: var(--sklearn-color-unfitted-level-1) 1pt solid;\n",
       "}\n",
       "\n",
       "#sk-container-id-2 a.estimator_doc_link.fitted {\n",
       "  /* fitted */\n",
       "  border: var(--sklearn-color-fitted-level-1) 1pt solid;\n",
       "  color: var(--sklearn-color-fitted-level-1);\n",
       "}\n",
       "\n",
       "/* On hover */\n",
       "#sk-container-id-2 a.estimator_doc_link:hover {\n",
       "  /* unfitted */\n",
       "  background-color: var(--sklearn-color-unfitted-level-3);\n",
       "  color: var(--sklearn-color-background);\n",
       "  text-decoration: none;\n",
       "}\n",
       "\n",
       "#sk-container-id-2 a.estimator_doc_link.fitted:hover {\n",
       "  /* fitted */\n",
       "  background-color: var(--sklearn-color-fitted-level-3);\n",
       "}\n",
       "</style><div id=\"sk-container-id-2\" class=\"sk-top-container\"><div class=\"sk-text-repr-fallback\"><pre>Pipeline(steps=[(&#x27;features&#x27;,\n",
       "                 FeatureUnion(transformer_list=[(&#x27;word_features&#x27;,\n",
       "                                                 Pipeline(steps=[(&#x27;vectorizer&#x27;,\n",
       "                                                                  TfidfVectorizer(max_features=250000,\n",
       "                                                                                  min_df=2,\n",
       "                                                                                  ngram_range=(1,\n",
       "                                                                                               2),\n",
       "                                                                                  strip_accents=&#x27;unicode&#x27;))])),\n",
       "                                                (&#x27;char_features&#x27;,\n",
       "                                                 Pipeline(steps=[(&#x27;vectorizer&#x27;,\n",
       "                                                                  TfidfVectorizer(analyzer=&#x27;char_wb&#x27;,\n",
       "                                                                                  max_features=250000,\n",
       "                                                                                  min_df=2,\n",
       "                                                                                  ngram_range=(3,\n",
       "                                                                                               5),\n",
       "                                                                                  strip_accents=&#x27;unicode&#x27;))]))])),\n",
       "                (&#x27;clf&#x27;,\n",
       "                 SGDClassifier(alpha=1e-05, class_weight=&#x27;balanced&#x27;,\n",
       "                               loss=&#x27;log_loss&#x27;, max_iter=10000, random_state=42,\n",
       "                               tol=0.0001))])</pre><b>In a Jupyter environment, please rerun this cell to show the HTML representation or trust the notebook. <br />On GitHub, the HTML representation is unable to render, please try loading this page with nbviewer.org.</b></div><div class=\"sk-container\" hidden><div class=\"sk-item sk-dashed-wrapped\"><div class=\"sk-label-container\"><div class=\"sk-label fitted sk-toggleable\"><input class=\"sk-toggleable__control sk-hidden--visually\" id=\"sk-estimator-id-6\" type=\"checkbox\" ><label for=\"sk-estimator-id-6\" class=\"sk-toggleable__label fitted sk-toggleable__label-arrow fitted\">&nbsp;&nbsp;Pipeline<a class=\"sk-estimator-doc-link fitted\" rel=\"noreferrer\" target=\"_blank\" href=\"https://scikit-learn.org/1.5/modules/generated/sklearn.pipeline.Pipeline.html\">?<span>Documentation for Pipeline</span></a><span class=\"sk-estimator-doc-link fitted\">i<span>Fitted</span></span></label><div class=\"sk-toggleable__content fitted\"><pre>Pipeline(steps=[(&#x27;features&#x27;,\n",
       "                 FeatureUnion(transformer_list=[(&#x27;word_features&#x27;,\n",
       "                                                 Pipeline(steps=[(&#x27;vectorizer&#x27;,\n",
       "                                                                  TfidfVectorizer(max_features=250000,\n",
       "                                                                                  min_df=2,\n",
       "                                                                                  ngram_range=(1,\n",
       "                                                                                               2),\n",
       "                                                                                  strip_accents=&#x27;unicode&#x27;))])),\n",
       "                                                (&#x27;char_features&#x27;,\n",
       "                                                 Pipeline(steps=[(&#x27;vectorizer&#x27;,\n",
       "                                                                  TfidfVectorizer(analyzer=&#x27;char_wb&#x27;,\n",
       "                                                                                  max_features=250000,\n",
       "                                                                                  min_df=2,\n",
       "                                                                                  ngram_range=(3,\n",
       "                                                                                               5),\n",
       "                                                                                  strip_accents=&#x27;unicode&#x27;))]))])),\n",
       "                (&#x27;clf&#x27;,\n",
       "                 SGDClassifier(alpha=1e-05, class_weight=&#x27;balanced&#x27;,\n",
       "                               loss=&#x27;log_loss&#x27;, max_iter=10000, random_state=42,\n",
       "                               tol=0.0001))])</pre></div> </div></div><div class=\"sk-serial\"><div class=\"sk-item sk-dashed-wrapped\"><div class=\"sk-label-container\"><div class=\"sk-label fitted sk-toggleable\"><input class=\"sk-toggleable__control sk-hidden--visually\" id=\"sk-estimator-id-7\" type=\"checkbox\" ><label for=\"sk-estimator-id-7\" class=\"sk-toggleable__label fitted sk-toggleable__label-arrow fitted\">&nbsp;features: FeatureUnion<a class=\"sk-estimator-doc-link fitted\" rel=\"noreferrer\" target=\"_blank\" href=\"https://scikit-learn.org/1.5/modules/generated/sklearn.pipeline.FeatureUnion.html\">?<span>Documentation for features: FeatureUnion</span></a></label><div class=\"sk-toggleable__content fitted\"><pre>FeatureUnion(transformer_list=[(&#x27;word_features&#x27;,\n",
       "                                Pipeline(steps=[(&#x27;vectorizer&#x27;,\n",
       "                                                 TfidfVectorizer(max_features=250000,\n",
       "                                                                 min_df=2,\n",
       "                                                                 ngram_range=(1,\n",
       "                                                                              2),\n",
       "                                                                 strip_accents=&#x27;unicode&#x27;))])),\n",
       "                               (&#x27;char_features&#x27;,\n",
       "                                Pipeline(steps=[(&#x27;vectorizer&#x27;,\n",
       "                                                 TfidfVectorizer(analyzer=&#x27;char_wb&#x27;,\n",
       "                                                                 max_features=250000,\n",
       "                                                                 min_df=2,\n",
       "                                                                 ngram_range=(3,\n",
       "                                                                              5),\n",
       "                                                                 strip_accents=&#x27;unicode&#x27;))]))])</pre></div> </div></div><div class=\"sk-parallel\"><div class=\"sk-parallel-item\"><div class=\"sk-item\"><div class=\"sk-label-container\"><div class=\"sk-label fitted sk-toggleable\"><label>word_features</label></div></div><div class=\"sk-serial\"><div class=\"sk-item\"><div class=\"sk-serial\"><div class=\"sk-item\"><div class=\"sk-estimator fitted sk-toggleable\"><input class=\"sk-toggleable__control sk-hidden--visually\" id=\"sk-estimator-id-8\" type=\"checkbox\" ><label for=\"sk-estimator-id-8\" class=\"sk-toggleable__label fitted sk-toggleable__label-arrow fitted\">&nbsp;TfidfVectorizer<a class=\"sk-estimator-doc-link fitted\" rel=\"noreferrer\" target=\"_blank\" href=\"https://scikit-learn.org/1.5/modules/generated/sklearn.feature_extraction.text.TfidfVectorizer.html\">?<span>Documentation for TfidfVectorizer</span></a></label><div class=\"sk-toggleable__content fitted\"><pre>TfidfVectorizer(max_features=250000, min_df=2, ngram_range=(1, 2),\n",
       "                strip_accents=&#x27;unicode&#x27;)</pre></div> </div></div></div></div></div></div></div><div class=\"sk-parallel-item\"><div class=\"sk-item\"><div class=\"sk-label-container\"><div class=\"sk-label fitted sk-toggleable\"><label>char_features</label></div></div><div class=\"sk-serial\"><div class=\"sk-item\"><div class=\"sk-serial\"><div class=\"sk-item\"><div class=\"sk-estimator fitted sk-toggleable\"><input class=\"sk-toggleable__control sk-hidden--visually\" id=\"sk-estimator-id-9\" type=\"checkbox\" ><label for=\"sk-estimator-id-9\" class=\"sk-toggleable__label fitted sk-toggleable__label-arrow fitted\">&nbsp;TfidfVectorizer<a class=\"sk-estimator-doc-link fitted\" rel=\"noreferrer\" target=\"_blank\" href=\"https://scikit-learn.org/1.5/modules/generated/sklearn.feature_extraction.text.TfidfVectorizer.html\">?<span>Documentation for TfidfVectorizer</span></a></label><div class=\"sk-toggleable__content fitted\"><pre>TfidfVectorizer(analyzer=&#x27;char_wb&#x27;, max_features=250000, min_df=2,\n",
       "                ngram_range=(3, 5), strip_accents=&#x27;unicode&#x27;)</pre></div> </div></div></div></div></div></div></div></div></div><div class=\"sk-item\"><div class=\"sk-estimator fitted sk-toggleable\"><input class=\"sk-toggleable__control sk-hidden--visually\" id=\"sk-estimator-id-10\" type=\"checkbox\" ><label for=\"sk-estimator-id-10\" class=\"sk-toggleable__label fitted sk-toggleable__label-arrow fitted\">&nbsp;SGDClassifier<a class=\"sk-estimator-doc-link fitted\" rel=\"noreferrer\" target=\"_blank\" href=\"https://scikit-learn.org/1.5/modules/generated/sklearn.linear_model.SGDClassifier.html\">?<span>Documentation for SGDClassifier</span></a></label><div class=\"sk-toggleable__content fitted\"><pre>SGDClassifier(alpha=1e-05, class_weight=&#x27;balanced&#x27;, loss=&#x27;log_loss&#x27;,\n",
       "              max_iter=10000, random_state=42, tol=0.0001)</pre></div> </div></div></div></div></div></div>"
      ],
      "text/plain": [
       "Pipeline(steps=[('features',\n",
       "                 FeatureUnion(transformer_list=[('word_features',\n",
       "                                                 Pipeline(steps=[('vectorizer',\n",
       "                                                                  TfidfVectorizer(max_features=250000,\n",
       "                                                                                  min_df=2,\n",
       "                                                                                  ngram_range=(1,\n",
       "                                                                                               2),\n",
       "                                                                                  strip_accents='unicode'))])),\n",
       "                                                ('char_features',\n",
       "                                                 Pipeline(steps=[('vectorizer',\n",
       "                                                                  TfidfVectorizer(analyzer='char_wb',\n",
       "                                                                                  max_features=250000,\n",
       "                                                                                  min_df=2,\n",
       "                                                                                  ngram_range=(3,\n",
       "                                                                                               5),\n",
       "                                                                                  strip_accents='unicode'))]))])),\n",
       "                ('clf',\n",
       "                 SGDClassifier(alpha=1e-05, class_weight='balanced',\n",
       "                               loss='log_loss', max_iter=10000, random_state=42,\n",
       "                               tol=0.0001))])"
      ]
     },
     "execution_count": 34,
     "metadata": {},
     "output_type": "execute_result"
    }
   ],
   "source": [
    "final_model = pipeline\n",
    "final_model.fit(X_text, y)"
   ]
  },
  {
   "cell_type": "markdown",
   "metadata": {},
   "source": [
    "## Test prediction and Kaggle Submission"
   ]
  },
  {
   "cell_type": "code",
   "execution_count": 35,
   "metadata": {
    "execution": {
     "iopub.execute_input": "2025-08-13T02:08:04.209293Z",
     "iopub.status.busy": "2025-08-13T02:08:04.208376Z",
     "iopub.status.idle": "2025-08-13T02:08:20.019334Z",
     "shell.execute_reply": "2025-08-13T02:08:20.018506Z",
     "shell.execute_reply.started": "2025-08-13T02:08:04.209256Z"
    },
    "trusted": true
   },
   "outputs": [
    {
     "data": {
      "text/html": [
       "<div>\n",
       "<style scoped>\n",
       "    .dataframe tbody tr th:only-of-type {\n",
       "        vertical-align: middle;\n",
       "    }\n",
       "\n",
       "    .dataframe tbody tr th {\n",
       "        vertical-align: top;\n",
       "    }\n",
       "\n",
       "    .dataframe thead th {\n",
       "        text-align: right;\n",
       "    }\n",
       "</style>\n",
       "<table border=\"1\" class=\"dataframe\">\n",
       "  <thead>\n",
       "    <tr style=\"text-align: right;\">\n",
       "      <th></th>\n",
       "      <th>row_id</th>\n",
       "      <th>Category:Misconception</th>\n",
       "    </tr>\n",
       "  </thead>\n",
       "  <tbody>\n",
       "    <tr>\n",
       "      <th>0</th>\n",
       "      <td>36696</td>\n",
       "      <td>True_Correct:NA True_Neither:NA False_Neither:NA</td>\n",
       "    </tr>\n",
       "    <tr>\n",
       "      <th>1</th>\n",
       "      <td>36697</td>\n",
       "      <td>False_Misconception:WNB False_Misconception:In...</td>\n",
       "    </tr>\n",
       "    <tr>\n",
       "      <th>2</th>\n",
       "      <td>36698</td>\n",
       "      <td>True_Neither:NA True_Correct:NA False_Misconce...</td>\n",
       "    </tr>\n",
       "  </tbody>\n",
       "</table>\n",
       "</div>"
      ],
      "text/plain": [
       "   row_id                             Category:Misconception\n",
       "0   36696   True_Correct:NA True_Neither:NA False_Neither:NA\n",
       "1   36697  False_Misconception:WNB False_Misconception:In...\n",
       "2   36698  True_Neither:NA True_Correct:NA False_Misconce..."
      ]
     },
     "execution_count": 35,
     "metadata": {},
     "output_type": "execute_result"
    }
   ],
   "source": [
    "test_proba = final_model.predict_proba(X_test_text)\n",
    "classes = final_model.named_steps['clf'].classes_\n",
    "\n",
    "top3 = [topk_from_proba(classes, row, k=3) for row in test_proba]\n",
    "\n",
    "# Build submission\n",
    "sub = pd.DataFrame({\n",
    "    'row_id': test_df.index + 36696,  # Kaggle's sample_submission starts at this ID; we re-index safely\n",
    "    'Category:Misconception': [' '.join(t) for t in top3]\n",
    "})\n",
    "sub.head()"
   ]
  },
  {
   "cell_type": "code",
   "execution_count": 36,
   "metadata": {
    "execution": {
     "iopub.execute_input": "2025-08-13T02:08:24.346667Z",
     "iopub.status.busy": "2025-08-13T02:08:24.34631Z",
     "iopub.status.idle": "2025-08-13T02:08:24.385758Z",
     "shell.execute_reply": "2025-08-13T02:08:24.384493Z",
     "shell.execute_reply.started": "2025-08-13T02:08:24.346643Z"
    },
    "trusted": true
   },
   "outputs": [
    {
     "name": "stdout",
     "output_type": "stream",
     "text": [
      "Aligned with sample_submission.\n"
     ]
    },
    {
     "data": {
      "text/html": [
       "<div>\n",
       "<style scoped>\n",
       "    .dataframe tbody tr th:only-of-type {\n",
       "        vertical-align: middle;\n",
       "    }\n",
       "\n",
       "    .dataframe tbody tr th {\n",
       "        vertical-align: top;\n",
       "    }\n",
       "\n",
       "    .dataframe thead th {\n",
       "        text-align: right;\n",
       "    }\n",
       "</style>\n",
       "<table border=\"1\" class=\"dataframe\">\n",
       "  <thead>\n",
       "    <tr style=\"text-align: right;\">\n",
       "      <th></th>\n",
       "      <th>row_id</th>\n",
       "      <th>Category:Misconception</th>\n",
       "    </tr>\n",
       "  </thead>\n",
       "  <tbody>\n",
       "    <tr>\n",
       "      <th>0</th>\n",
       "      <td>36696</td>\n",
       "      <td>True_Correct:NA True_Neither:NA False_Neither:NA</td>\n",
       "    </tr>\n",
       "    <tr>\n",
       "      <th>1</th>\n",
       "      <td>36697</td>\n",
       "      <td>False_Misconception:WNB False_Misconception:In...</td>\n",
       "    </tr>\n",
       "    <tr>\n",
       "      <th>2</th>\n",
       "      <td>36698</td>\n",
       "      <td>True_Neither:NA True_Correct:NA False_Misconce...</td>\n",
       "    </tr>\n",
       "  </tbody>\n",
       "</table>\n",
       "</div>"
      ],
      "text/plain": [
       "   row_id                             Category:Misconception\n",
       "0   36696   True_Correct:NA True_Neither:NA False_Neither:NA\n",
       "1   36697  False_Misconception:WNB False_Misconception:In...\n",
       "2   36698  True_Neither:NA True_Correct:NA False_Misconce..."
      ]
     },
     "execution_count": 36,
     "metadata": {},
     "output_type": "execute_result"
    }
   ],
   "source": [
    "# Use the provided sample_submission to ensure exact row_id ordering\n",
    "sample_path = os.path.join(DATA_DIR, 'sample_submission.csv')\n",
    "if os.path.exists(sample_path):\n",
    "    sample = pd.read_csv(sample_path)\n",
    "    if 'row_id' in sample.columns:\n",
    "        sub = sample[['row_id']].merge(sub, on='row_id', how='left')\n",
    "        # If any rows didn't merge (shouldn't happen), fill with a safe default\n",
    "        default_label = 'True_Correct:NA'\n",
    "        sub['Category:Misconception'] = sub['Category:Misconception'].fillna(default_label)\n",
    "        print('Aligned with sample_submission.')\n",
    "else:\n",
    "    print('sample_submission.csv not found; using generated row_id sequence.')\n",
    "\n",
    "sub.head(3)"
   ]
  },
  {
   "cell_type": "code",
   "execution_count": 37,
   "metadata": {
    "execution": {
     "iopub.execute_input": "2025-08-13T02:08:27.928845Z",
     "iopub.status.busy": "2025-08-13T02:08:27.9273Z",
     "iopub.status.idle": "2025-08-13T02:08:27.947529Z",
     "shell.execute_reply": "2025-08-13T02:08:27.946515Z",
     "shell.execute_reply.started": "2025-08-13T02:08:27.928807Z"
    },
    "trusted": true
   },
   "outputs": [
    {
     "name": "stdout",
     "output_type": "stream",
     "text": [
      "Saved: /home/martin/Workspace/map-charting-student-math-misunderstandings/submission.csv\n"
     ]
    },
    {
     "data": {
      "text/html": [
       "<div>\n",
       "<style scoped>\n",
       "    .dataframe tbody tr th:only-of-type {\n",
       "        vertical-align: middle;\n",
       "    }\n",
       "\n",
       "    .dataframe tbody tr th {\n",
       "        vertical-align: top;\n",
       "    }\n",
       "\n",
       "    .dataframe thead th {\n",
       "        text-align: right;\n",
       "    }\n",
       "</style>\n",
       "<table border=\"1\" class=\"dataframe\">\n",
       "  <thead>\n",
       "    <tr style=\"text-align: right;\">\n",
       "      <th></th>\n",
       "      <th>row_id</th>\n",
       "      <th>Category:Misconception</th>\n",
       "    </tr>\n",
       "  </thead>\n",
       "  <tbody>\n",
       "    <tr>\n",
       "      <th>0</th>\n",
       "      <td>36696</td>\n",
       "      <td>True_Correct:NA True_Neither:NA False_Neither:NA</td>\n",
       "    </tr>\n",
       "    <tr>\n",
       "      <th>1</th>\n",
       "      <td>36697</td>\n",
       "      <td>False_Misconception:WNB False_Misconception:In...</td>\n",
       "    </tr>\n",
       "    <tr>\n",
       "      <th>2</th>\n",
       "      <td>36698</td>\n",
       "      <td>True_Neither:NA True_Correct:NA False_Misconce...</td>\n",
       "    </tr>\n",
       "  </tbody>\n",
       "</table>\n",
       "</div>"
      ],
      "text/plain": [
       "   row_id                             Category:Misconception\n",
       "0   36696   True_Correct:NA True_Neither:NA False_Neither:NA\n",
       "1   36697  False_Misconception:WNB False_Misconception:In...\n",
       "2   36698  True_Neither:NA True_Correct:NA False_Misconce..."
      ]
     },
     "execution_count": 37,
     "metadata": {},
     "output_type": "execute_result"
    }
   ],
   "source": [
    "\n",
    "SUB_PATH = 'submission.csv'\n",
    "sub.to_csv(SUB_PATH, index=False)\n",
    "print('Saved:', os.path.abspath(SUB_PATH))\n",
    "sub.head()"
   ]
  },
  {
   "cell_type": "markdown",
   "metadata": {},
   "source": [
    "\n",
    "## Notes & Next Steps\n",
    "- Performance of this TF-IDF + Linear pipeline is disastrous when predicting Misconception categories,\n",
    "  - Since Misconception categories are long tail and non-Misconception samples outweigh Misconception ones heavily, I even tried training and predicting with only Misconception samples, but it didn't help,\n",
    "  - Based on Kaggle's discussions and notebooks, it seems that the only way is to use different model (XGBoost) and custom features (e.g. length of explanation),"
   ]
  },
  {
   "cell_type": "markdown",
   "metadata": {},
   "source": [
    "### Original notes\n",
    "\n",
    "- This is a **clean baseline**; strong gains often come from:\n",
    "  - [x] Adding **character-level TF‑IDF** features (e.g., char 3–5 grams) and stacking with word TF‑IDF.\n",
    "  - [x] Using **class-weighting** to handle long-tail misconception labels.\n",
    "  - [ ] Ensembling multiple linear models or adding **lightweight neural** encoders (e.g., MiniLM) with pooling.\n",
    "  - [ ] Normalizing math expressions / symbols; including `QuestionId`‑aware features.\n",
    "\n",
    "- Keep runtime low and avoid leakage (we grouped by `QuestionId` for CV).\n",
    "- Submit this notebook as **GPU/CPU (no internet)**. The output `submission.csv` is in the working directory."
   ]
  }
 ],
 "metadata": {
  "kaggle": {
   "accelerator": "none",
   "dataSources": [
    {
     "databundleVersionId": 12957508,
     "sourceId": 104383,
     "sourceType": "competition"
    }
   ],
   "dockerImageVersionId": 31089,
   "isGpuEnabled": false,
   "isInternetEnabled": false,
   "language": "python",
   "sourceType": "notebook"
  },
  "kernelspec": {
   "display_name": "base",
   "language": "python",
   "name": "python3"
  },
  "language_info": {
   "codemirror_mode": {
    "name": "ipython",
    "version": 3
   },
   "file_extension": ".py",
   "mimetype": "text/x-python",
   "name": "python",
   "nbconvert_exporter": "python",
   "pygments_lexer": "ipython3",
   "version": "3.12.2"
  }
 },
 "nbformat": 4,
 "nbformat_minor": 4
}
